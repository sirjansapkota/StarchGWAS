{
 "cells": [
  {
   "cell_type": "markdown",
   "metadata": {},
   "source": [
    "### Pulling genes by significant SNPs from multivariate GWAS on Starch and Protein"
   ]
  },
  {
   "cell_type": "code",
   "execution_count": 1,
   "metadata": {},
   "outputs": [
    {
     "name": "stderr",
     "output_type": "stream",
     "text": [
      "Registered S3 method overwritten by 'rvest':\n",
      "  method            from\n",
      "  read_xml.response xml2\n",
      "── Attaching packages ─────────────────────────────────────── tidyverse 1.2.1 ──\n",
      "✔ ggplot2 3.2.0     ✔ purrr   0.3.2\n",
      "✔ tibble  2.1.3     ✔ dplyr   0.8.2\n",
      "✔ tidyr   0.8.3     ✔ stringr 1.4.0\n",
      "✔ readr   1.3.1     ✔ forcats 0.4.0\n",
      "── Conflicts ────────────────────────────────────────── tidyverse_conflicts() ──\n",
      "✖ dplyr::filter() masks stats::filter()\n",
      "✖ dplyr::lag()    masks stats::lag()\n"
     ]
    }
   ],
   "source": [
    ".libPaths(c('/home/ssapkot/.conda/envs/r_env_360/lib', .libPaths()))\n",
    "\n",
    "library(tidyverse)\n",
    "library(ggplot2)\n",
    "library(pheatmap)\n",
    "setwd('/panicle/ssapkot/StarchProtein/')"
   ]
  },
  {
   "cell_type": "markdown",
   "metadata": {},
   "source": []
  },
  {
   "cell_type": "code",
   "execution_count": null,
   "metadata": {},
   "outputs": [],
   "source": []
  },
  {
   "cell_type": "markdown",
   "metadata": {},
   "source": []
  },
  {
   "cell_type": "markdown",
   "metadata": {},
   "source": [
    "### Gene expression data"
   ]
  },
  {
   "cell_type": "code",
   "execution_count": null,
   "metadata": {},
   "outputs": [],
   "source": []
  },
  {
   "cell_type": "markdown",
   "metadata": {},
   "source": [
    "#### Chromosome 8 significant genes and their first interactors\n",
    "Using medium confidenc(0.9 or 900) interactors\n",
    "##### Davidson et. al Gene Expression result"
   ]
  },
  {
   "cell_type": "markdown",
   "metadata": {},
   "source": [
    "## Associated Genes"
   ]
  },
  {
   "cell_type": "code",
   "execution_count": 19,
   "metadata": {},
   "outputs": [
    {
     "data": {
      "text/html": [
       "<table>\n",
       "<thead><tr><th scope=col>GeneID</th><th scope=col>GeneName</th><th scope=col>seed</th><th scope=col>spikelet</th><th scope=col>stem</th></tr></thead>\n",
       "<tbody>\n",
       "\t<tr><td>SORBI_3001G000200</td><td>SORBI_3001G000200</td><td>22               </td><td>36               </td><td>59               </td></tr>\n",
       "\t<tr><td>SORBI_3001G000400</td><td>SORBI_3001G000400</td><td> 3               </td><td>13               </td><td> 6               </td></tr>\n",
       "\t<tr><td>SORBI_3001G000700</td><td>SORBI_3001G000700</td><td> 1               </td><td> 3               </td><td> 5               </td></tr>\n",
       "\t<tr><td>SORBI_3001G000800</td><td>SORBI_3001G000800</td><td>50               </td><td>69               </td><td>91               </td></tr>\n",
       "\t<tr><td>SORBI_3001G000900</td><td>SORBI_3001G000900</td><td>NA               </td><td> 6               </td><td>NA               </td></tr>\n",
       "\t<tr><td>SORBI_3001G001000</td><td>SORBI_3001G001000</td><td>NA               </td><td> 2               </td><td> 1               </td></tr>\n",
       "</tbody>\n",
       "</table>\n"
      ],
      "text/latex": [
       "\\begin{tabular}{r|lllll}\n",
       " GeneID & GeneName & seed & spikelet & stem\\\\\n",
       "\\hline\n",
       "\t SORBI\\_3001G000200 & SORBI\\_3001G000200 & 22                  & 36                  & 59                 \\\\\n",
       "\t SORBI\\_3001G000400 & SORBI\\_3001G000400 &  3                  & 13                  &  6                 \\\\\n",
       "\t SORBI\\_3001G000700 & SORBI\\_3001G000700 &  1                  &  3                  &  5                 \\\\\n",
       "\t SORBI\\_3001G000800 & SORBI\\_3001G000800 & 50                  & 69                  & 91                 \\\\\n",
       "\t SORBI\\_3001G000900 & SORBI\\_3001G000900 & NA                  &  6                  & NA                 \\\\\n",
       "\t SORBI\\_3001G001000 & SORBI\\_3001G001000 & NA                  &  2                  &  1                 \\\\\n",
       "\\end{tabular}\n"
      ],
      "text/markdown": [
       "\n",
       "| GeneID | GeneName | seed | spikelet | stem |\n",
       "|---|---|---|---|---|\n",
       "| SORBI_3001G000200 | SORBI_3001G000200 | 22                | 36                | 59                |\n",
       "| SORBI_3001G000400 | SORBI_3001G000400 |  3                | 13                |  6                |\n",
       "| SORBI_3001G000700 | SORBI_3001G000700 |  1                |  3                |  5                |\n",
       "| SORBI_3001G000800 | SORBI_3001G000800 | 50                | 69                | 91                |\n",
       "| SORBI_3001G000900 | SORBI_3001G000900 | NA                |  6                | NA                |\n",
       "| SORBI_3001G001000 | SORBI_3001G001000 | NA                |  2                |  1                |\n",
       "\n"
      ],
      "text/plain": [
       "  GeneID            GeneName          seed spikelet stem\n",
       "1 SORBI_3001G000200 SORBI_3001G000200 22   36       59  \n",
       "2 SORBI_3001G000400 SORBI_3001G000400  3   13        6  \n",
       "3 SORBI_3001G000700 SORBI_3001G000700  1    3        5  \n",
       "4 SORBI_3001G000800 SORBI_3001G000800 50   69       91  \n",
       "5 SORBI_3001G000900 SORBI_3001G000900 NA    6       NA  \n",
       "6 SORBI_3001G001000 SORBI_3001G001000 NA    2        1  "
      ]
     },
     "metadata": {},
     "output_type": "display_data"
    },
    {
     "data": {
      "text/html": [
       "<table>\n",
       "<thead><tr><th scope=col>GeneID</th></tr></thead>\n",
       "<tbody>\n",
       "\t<tr><td>SORBI_3001G054500</td></tr>\n",
       "\t<tr><td>SORBI_3008G111500</td></tr>\n",
       "\t<tr><td>SORBI_3008G111600</td></tr>\n",
       "\t<tr><td>SORBI_3008G158332</td></tr>\n",
       "\t<tr><td>SORBI_3008G158400</td></tr>\n",
       "</tbody>\n",
       "</table>\n"
      ],
      "text/latex": [
       "\\begin{tabular}{r|l}\n",
       " GeneID\\\\\n",
       "\\hline\n",
       "\t SORBI\\_3001G054500\\\\\n",
       "\t SORBI\\_3008G111500\\\\\n",
       "\t SORBI\\_3008G111600\\\\\n",
       "\t SORBI\\_3008G158332\\\\\n",
       "\t SORBI\\_3008G158400\\\\\n",
       "\\end{tabular}\n"
      ],
      "text/markdown": [
       "\n",
       "| GeneID |\n",
       "|---|\n",
       "| SORBI_3001G054500 |\n",
       "| SORBI_3008G111500 |\n",
       "| SORBI_3008G111600 |\n",
       "| SORBI_3008G158332 |\n",
       "| SORBI_3008G158400 |\n",
       "\n"
      ],
      "text/plain": [
       "  GeneID           \n",
       "1 SORBI_3001G054500\n",
       "2 SORBI_3008G111500\n",
       "3 SORBI_3008G111600\n",
       "4 SORBI_3008G158332\n",
       "5 SORBI_3008G158400"
      ]
     },
     "metadata": {},
     "output_type": "display_data"
    },
    {
     "name": "stderr",
     "output_type": "stream",
     "text": [
      "Warning message:\n",
      "“Column `GeneID` joining factors with different levels, coercing to character vector”"
     ]
    },
    {
     "data": {
      "image/png": "[encoded data removed]",
      "text/plain": [
       "plot without title"
      ]
     },
     "metadata": {},
     "output_type": "display_data"
    }
   ],
   "source": [
    "df1 <- read.table('results/expression/GeneExp_TPM_RIKEN.tsv', sep='\\t', header=T)\n",
    "df2 <- read.table('results/annotation/sigGenes_SORBI.txt',header=T)\n",
    "head(df1)\n",
    "head(df2)\n",
    "\n",
    "exp <- df2 %>% left_join(df1,by='GeneID')\n",
    "exp <- exp[complete.cases(exp),]\n",
    "log <- log2(exp[-c(1,2)])\n",
    "log[is.na(log)] <- 0\n",
    "rownames(log) <- exp$GeneID\n",
    "pheatmap(log, cluster_rows=F, cluster_cols=F)"
   ]
  },
  {
   "cell_type": "markdown",
   "metadata": {},
   "source": [
    "## Genes and Interactors"
   ]
  },
  {
   "cell_type": "code",
   "execution_count": null,
   "metadata": {},
   "outputs": [],
   "source": [
    "df1 <- read.table('results/expression/GeneExp_TPM_Davidson.tsv', sep='\\t', header=T)\n",
    "df2 <- read.table('results/annotation/GenesAndNeighbors_900_SORBI.txt',header=T)\n",
    "head(df1)\n",
    "head(df2)\n",
    "\n",
    "exp <- df2 %>% left_join(df1,by='GeneID')\n",
    "exp <- exp[complete.cases(exp),]\n",
    "exp\n",
    "# log <- log2(exp[-c(1,2)])\n",
    "# log[is.na(log)] <- 0\n",
    "# rownames(log) <- exp$GeneID\n",
    "# pheatmap(log, cluster_rows=T, cluster_cols=T)"
   ]
  },
  {
   "cell_type": "code",
   "execution_count": 70,
   "metadata": {},
   "outputs": [
    {
     "name": "stderr",
     "output_type": "stream",
     "text": [
      "Warning message:\n",
      "“Column `GeneID` joining factors with different levels, coercing to character vector”"
     ]
    },
    {
     "data": {
      "image/png": "[encoded data removed]",
      "text/plain": [
       "plot without title"
      ]
     },
     "metadata": {},
     "output_type": "display_data"
    }
   ],
   "source": [
    "df1 <- read.table('results/expression/GeneExp_TPM_RIKEN.tsv', sep='\\t', header=T)\n",
    "df2 <- read.table('results/annotation/Genes_interactors/Genes_Interactors_Chr8_conf0.7_SORBI.txt',header=T)\n",
    "\n",
    "exp <- df2 %>% left_join(df1,by='GeneID')\n",
    "exp <- exp[complete.cases(exp),]\n",
    "log <- log2(exp[-c(1,2)])\n",
    "log[is.na(log)] <- 0\n",
    "rownames(log) <- exp$GeneID\n",
    "pheatmap(log, cluster_rows=T, cluster_cols=T)"
   ]
  },
  {
   "cell_type": "markdown",
   "metadata": {},
   "source": [
    "### Combining chr 4, 8 and 10 genes and interactors"
   ]
  },
  {
   "cell_type": "code",
   "execution_count": 10,
   "metadata": {},
   "outputs": [
    {
     "data": {
      "text/html": [
       "<table>\n",
       "<thead><tr><th scope=col>GeneID</th><th scope=col>group</th></tr></thead>\n",
       "<tbody>\n",
       "\t<tr><td>SORBI_3002G175400</td><td>Chr4             </td></tr>\n",
       "\t<tr><td>SORBI_3003G187800</td><td>Chr4             </td></tr>\n",
       "\t<tr><td>SORBI_3003G270400</td><td>Chr4             </td></tr>\n",
       "\t<tr><td>SORBI_3003G300200</td><td>Chr4             </td></tr>\n",
       "\t<tr><td>SORBI_3004G196101</td><td>Chr4             </td></tr>\n",
       "\t<tr><td>SORBI_3004G260600</td><td>Chr4             </td></tr>\n",
       "</tbody>\n",
       "</table>\n"
      ],
      "text/latex": [
       "\\begin{tabular}{r|ll}\n",
       " GeneID & group\\\\\n",
       "\\hline\n",
       "\t SORBI\\_3002G175400 & Chr4               \\\\\n",
       "\t SORBI\\_3003G187800 & Chr4               \\\\\n",
       "\t SORBI\\_3003G270400 & Chr4               \\\\\n",
       "\t SORBI\\_3003G300200 & Chr4               \\\\\n",
       "\t SORBI\\_3004G196101 & Chr4               \\\\\n",
       "\t SORBI\\_3004G260600 & Chr4               \\\\\n",
       "\\end{tabular}\n"
      ],
      "text/markdown": [
       "\n",
       "| GeneID | group |\n",
       "|---|---|\n",
       "| SORBI_3002G175400 | Chr4              |\n",
       "| SORBI_3003G187800 | Chr4              |\n",
       "| SORBI_3003G270400 | Chr4              |\n",
       "| SORBI_3003G300200 | Chr4              |\n",
       "| SORBI_3004G196101 | Chr4              |\n",
       "| SORBI_3004G260600 | Chr4              |\n",
       "\n"
      ],
      "text/plain": [
       "  GeneID            group\n",
       "1 SORBI_3002G175400 Chr4 \n",
       "2 SORBI_3003G187800 Chr4 \n",
       "3 SORBI_3003G270400 Chr4 \n",
       "4 SORBI_3003G300200 Chr4 \n",
       "5 SORBI_3004G196101 Chr4 \n",
       "6 SORBI_3004G260600 Chr4 "
      ]
     },
     "metadata": {},
     "output_type": "display_data"
    },
    {
     "data": {
      "text/html": [
       "<ol class=list-inline>\n",
       "\t<li>138</li>\n",
       "\t<li>2</li>\n",
       "</ol>\n"
      ],
      "text/latex": [
       "\\begin{enumerate*}\n",
       "\\item 138\n",
       "\\item 2\n",
       "\\end{enumerate*}\n"
      ],
      "text/markdown": [
       "1. 138\n",
       "2. 2\n",
       "\n",
       "\n"
      ],
      "text/plain": [
       "[1] 138   2"
      ]
     },
     "metadata": {},
     "output_type": "display_data"
    },
    {
     "name": "stderr",
     "output_type": "stream",
     "text": [
      "Warning message:\n",
      "“Column `GeneID` joining factors with different levels, coercing to character vector”"
     ]
    },
    {
     "data": {
      "text/html": [
       "<table>\n",
       "<thead><tr><th></th><th scope=col>GeneID</th><th scope=col>group</th><th scope=col>Gene.Name</th><th scope=col>floral.meristem</th><th scope=col>flower</th><th scope=col>plant.embryo</th><th scope=col>root</th><th scope=col>shoot</th><th scope=col>vegetative.meristem</th></tr></thead>\n",
       "<tbody>\n",
       "\t<tr><th scope=row>1</th><td>SORBI_3002G175400</td><td>Chr4             </td><td>SORBI_3002G175400</td><td>  60.0           </td><td>  58.0           </td><td>  38.0           </td><td>  28.0           </td><td> 75.0            </td><td>  60.0           </td></tr>\n",
       "\t<tr><th scope=row>6</th><td>SORBI_3004G260600</td><td>Chr4             </td><td>DES2             </td><td>   0.2           </td><td>   0.5           </td><td>   0.9           </td><td>   3.0           </td><td>  1.0            </td><td>   0.1           </td></tr>\n",
       "\t<tr><th scope=row>7</th><td>SORBI_3004G260800</td><td>Chr4             </td><td>SORBI_3004G260800</td><td> 195.0           </td><td> 579.0           </td><td> 711.0           </td><td> 316.0           </td><td>727.0            </td><td> 187.0           </td></tr>\n",
       "\t<tr><th scope=row>9</th><td>SORBI_3004G312500</td><td>Chr4             </td><td>SORBI_3004G312500</td><td>   7.0           </td><td>   0.1           </td><td>   7.0           </td><td> 258.0           </td><td>  5.0            </td><td>   5.0           </td></tr>\n",
       "\t<tr><th scope=row>10</th><td>SORBI_3006G111700</td><td>Chr4             </td><td>SORBI_3006G111700</td><td>  56.0           </td><td>  39.0           </td><td>  51.0           </td><td>  23.0           </td><td> 22.0            </td><td>  69.0           </td></tr>\n",
       "\t<tr><th scope=row>11</th><td>SORBI_3007G153900</td><td>Chr4             </td><td>SORBI_3007G153900</td><td>   0.9           </td><td>   6.0           </td><td>   1.0           </td><td> 260.0           </td><td>212.0            </td><td>   0.8           </td></tr>\n",
       "\t<tr><th scope=row>12</th><td>SORBI_3010G181500</td><td>Chr4             </td><td>SORBI_3010G181500</td><td>  52.0           </td><td>  18.0           </td><td>  36.0           </td><td>  34.0           </td><td> 29.0            </td><td>  53.0           </td></tr>\n",
       "\t<tr><th scope=row>13</th><td>SORBI_3001G003100</td><td>Chr8             </td><td>SORBI_3001G003100</td><td> 129.0           </td><td>  77.0           </td><td> 334.0           </td><td> 180.0           </td><td>182.0            </td><td> 174.0           </td></tr>\n",
       "\t<tr><th scope=row>14</th><td>SORBI_3001G032800</td><td>Chr8             </td><td>SORBI_3001G032800</td><td> 114.0           </td><td>  77.0           </td><td> 104.0           </td><td>  72.0           </td><td> 48.0            </td><td> 103.0           </td></tr>\n",
       "\t<tr><th scope=row>16</th><td>SORBI_3001G064500</td><td>Chr8             </td><td>SORBI_3001G064500</td><td> 327.0           </td><td> 184.0           </td><td> 183.0           </td><td> 210.0           </td><td> 93.0            </td><td> 288.0           </td></tr>\n",
       "\t<tr><th scope=row>17</th><td>SORBI_3001G088500</td><td>Chr8             </td><td>SORBI_3001G088500</td><td>  52.0           </td><td>  38.0           </td><td>  41.0           </td><td>  48.0           </td><td> 39.0            </td><td>  48.0           </td></tr>\n",
       "\t<tr><th scope=row>19</th><td>SORBI_3001G120500</td><td>Chr8             </td><td>SORBI_3001G120500</td><td>  34.0           </td><td>  26.0           </td><td>  49.0           </td><td>  43.0           </td><td> 45.0            </td><td>  33.0           </td></tr>\n",
       "\t<tr><th scope=row>20</th><td>SORBI_3001G129000</td><td>Chr8             </td><td>SORBI_3001G129000</td><td> 183.0           </td><td>  89.0           </td><td> 160.0           </td><td>  43.0           </td><td>373.0            </td><td> 171.0           </td></tr>\n",
       "\t<tr><th scope=row>23</th><td>SORBI_3001G137600</td><td>Chr8             </td><td>SORBI_3001G137600</td><td>  86.0           </td><td>  28.0           </td><td>   5.0           </td><td>   0.5           </td><td>  0.2            </td><td>  73.0           </td></tr>\n",
       "\t<tr><th scope=row>24</th><td>SORBI_3001G137800</td><td>Chr8             </td><td>SORBI_3001G137800</td><td>  35.0           </td><td>  33.0           </td><td>  10.0           </td><td>   2.0           </td><td>  0.4            </td><td>  18.0           </td></tr>\n",
       "\t<tr><th scope=row>25</th><td>SORBI_3001G149600</td><td>Chr8             </td><td>SORBI_3001G149600</td><td>  32.0           </td><td>   9.0           </td><td>  21.0           </td><td>   8.0           </td><td>  5.0            </td><td>  32.0           </td></tr>\n",
       "\t<tr><th scope=row>26</th><td>SORBI_3001G154100</td><td>Chr8             </td><td>SORBI_3001G154100</td><td>3966.0           </td><td>1662.0           </td><td>1767.0           </td><td>1003.0           </td><td>360.0            </td><td>3233.0           </td></tr>\n",
       "\t<tr><th scope=row>27</th><td>SORBI_3001G158700</td><td>Chr8             </td><td>SORBI_3001G158700</td><td>  82.0           </td><td>  91.0           </td><td>   4.0           </td><td>   0.6           </td><td>  2.0            </td><td>  60.0           </td></tr>\n",
       "\t<tr><th scope=row>28</th><td>SORBI_3001G193500</td><td>Chr8             </td><td>SORBI_3001G193500</td><td> 279.0           </td><td>  99.0           </td><td> 293.0           </td><td> 125.0           </td><td> 56.0            </td><td> 279.0           </td></tr>\n",
       "\t<tr><th scope=row>29</th><td>SORBI_3001G228200</td><td>Chr8             </td><td>SORBI_3001G228200</td><td> 230.0           </td><td>  49.0           </td><td> 303.0           </td><td> 256.0           </td><td> 30.0            </td><td> 262.0           </td></tr>\n",
       "\t<tr><th scope=row>30</th><td>SORBI_3007G108100</td><td>Chr8             </td><td>SORBI_3007G108100</td><td> 819.0           </td><td> 375.0           </td><td> 792.0           </td><td> 563.0           </td><td>193.0            </td><td> 817.0           </td></tr>\n",
       "\t<tr><th scope=row>31</th><td>SORBI_3001G366300</td><td>Chr8             </td><td>SORBI_3001G366300</td><td>  14.0           </td><td>   2.0           </td><td>  67.0           </td><td>   3.0           </td><td>  0.5            </td><td>  17.0           </td></tr>\n",
       "\t<tr><th scope=row>32</th><td>SORBI_3001G371400</td><td>Chr8             </td><td>SORBI_3001G371400</td><td> 386.0           </td><td> 290.0           </td><td> 326.0           </td><td> 397.0           </td><td>164.0            </td><td> 509.0           </td></tr>\n",
       "\t<tr><th scope=row>33</th><td>SORBI_3001G418600</td><td>Chr8             </td><td>SORBI_3001G418600</td><td>  17.0           </td><td>   0.5           </td><td>   2.0           </td><td>   0.1           </td><td>  0.3            </td><td>   0.3           </td></tr>\n",
       "\t<tr><th scope=row>35</th><td>SORBI_3009G163900</td><td>Chr8             </td><td>SORBI_3009G163900</td><td> 345.0           </td><td>  35.0           </td><td> 140.0           </td><td>  34.0           </td><td>  4.0            </td><td> 309.0           </td></tr>\n",
       "\t<tr><th scope=row>36</th><td>SORBI_3001G419900</td><td>Chr8             </td><td>SORBI_3001G419900</td><td>   2.0           </td><td>   1.0           </td><td>   1.0           </td><td>   0.3           </td><td>  0.7            </td><td>   2.0           </td></tr>\n",
       "\t<tr><th scope=row>40</th><td>SORBI_3001G420100</td><td>Chr8             </td><td>SORBI_3001G420100</td><td>   2.0           </td><td>  78.0           </td><td>   9.0           </td><td>  94.0           </td><td> 47.0            </td><td>   2.0           </td></tr>\n",
       "\t<tr><th scope=row>41</th><td>SORBI_3001G423100</td><td>Chr8             </td><td>SORBI_3001G423100</td><td>  54.0           </td><td>  14.0           </td><td>  13.0           </td><td>  17.0           </td><td> 37.0            </td><td>  25.0           </td></tr>\n",
       "\t<tr><th scope=row>42</th><td>SORBI_3001G428400</td><td>Chr8             </td><td>SORBI_3001G428400</td><td> 151.0           </td><td>  52.0           </td><td>  98.0           </td><td>  64.0           </td><td> 27.0            </td><td> 146.0           </td></tr>\n",
       "\t<tr><th scope=row>43</th><td>SORBI_3001G437801</td><td>Chr8             </td><td>SORBI_3001G437801</td><td>  25.0           </td><td>  11.0           </td><td>  12.0           </td><td>   3.0           </td><td> 53.0            </td><td>  25.0           </td></tr>\n",
       "\t<tr><th scope=row>...</th><td>...</td><td>...</td><td>...</td><td>...</td><td>...</td><td>...</td><td>...</td><td>...</td><td>...</td></tr>\n",
       "\t<tr><th scope=row>103</th><td>SORBI_3006G088000</td><td>Chr8             </td><td>SORBI_3006G088000</td><td> 118.0           </td><td>  68.0           </td><td>  85             </td><td>  63             </td><td> 136.0           </td><td> 137.0           </td></tr>\n",
       "\t<tr><th scope=row>104</th><td>SORBI_3006G278700</td><td>Chr8             </td><td>SORBI_3006G278700</td><td>  50.0           </td><td>  30.0           </td><td>  42             </td><td>  37             </td><td>  18.0           </td><td>  56.0           </td></tr>\n",
       "\t<tr><th scope=row>105</th><td>SORBI_3007G060000</td><td>Chr8             </td><td>SORBI_3007G060000</td><td>  13.0           </td><td>   4.0           </td><td>  16             </td><td>   1             </td><td>   2.0           </td><td>  12.0           </td></tr>\n",
       "\t<tr><th scope=row>106</th><td>SORBI_3007G106400</td><td>Chr8             </td><td>SORBI_3007G106400</td><td> 582.0           </td><td> 715.0           </td><td> 351             </td><td> 396             </td><td> 364.0           </td><td> 448.0           </td></tr>\n",
       "\t<tr><th scope=row>108</th><td>SORBI_3007G192700</td><td>Chr8             </td><td>SORBI_3007G192700</td><td> 365.0           </td><td> 382.0           </td><td> 512             </td><td> 489             </td><td> 166.0           </td><td> 501.0           </td></tr>\n",
       "\t<tr><th scope=row>109</th><td>SORBI_3007G207400</td><td>Chr8             </td><td>SORBI_3007G207400</td><td>  56.0           </td><td>  40.0           </td><td>  63             </td><td>  38             </td><td>  25.0           </td><td>  63.0           </td></tr>\n",
       "\t<tr><th scope=row>110</th><td>SORBI_3007G224100</td><td>Chr8             </td><td>SORBI_3007G224100</td><td> 163.0           </td><td>  58.0           </td><td> 158             </td><td>  59             </td><td> 191.0           </td><td> 134.0           </td></tr>\n",
       "\t<tr><th scope=row>114</th><td>SORBI_3008G088200</td><td>Chr8             </td><td>SORBI_3008G088200</td><td> 183.0           </td><td> 132.0           </td><td> 269             </td><td> 115             </td><td> 338.0           </td><td> 177.0           </td></tr>\n",
       "\t<tr><th scope=row>115</th><td>SORBI_3008G100100</td><td>Chr8             </td><td>SORBI_3008G100100</td><td> 124.0           </td><td>  54.0           </td><td>  84             </td><td>  55             </td><td>  34.0           </td><td> 120.0           </td></tr>\n",
       "\t<tr><th scope=row>116</th><td>SORBI_3008G111600</td><td>Chr8             </td><td>SORBI_3008G111600</td><td> 157.0           </td><td>  43.0           </td><td> 155             </td><td>  66             </td><td>  22.0           </td><td> 179.0           </td></tr>\n",
       "\t<tr><th scope=row>117</th><td>SORBI_3008G124900</td><td>Chr8             </td><td>SORBI_3008G124900</td><td>  41.0           </td><td>  27.0           </td><td>  62             </td><td>  32             </td><td>  18.0           </td><td>  46.0           </td></tr>\n",
       "\t<tr><th scope=row>118</th><td>SORBI_3008G136000</td><td>Chr8             </td><td>SORBI_3008G136000</td><td>5927.0           </td><td>1388.0           </td><td>1410             </td><td>2428             </td><td>1053.0           </td><td>4587.0           </td></tr>\n",
       "\t<tr><th scope=row>120</th><td>SORBI_3008G188800</td><td>Chr8             </td><td>SORBI_3008G188800</td><td>  57.0           </td><td>  33.0           </td><td>  28             </td><td>   3             </td><td>   0.9           </td><td>  42.0           </td></tr>\n",
       "\t<tr><th scope=row>121</th><td>SORBI_3009G002000</td><td>Chr8             </td><td>SORBI_3009G002000</td><td>  65.0           </td><td>  32.0           </td><td>  81             </td><td>  44             </td><td>  21.0           </td><td>  76.0           </td></tr>\n",
       "\t<tr><th scope=row>122</th><td>SORBI_3009G030300</td><td>Chr8             </td><td>SORBI_3009G030300</td><td>  90.0           </td><td>  37.0           </td><td>  65             </td><td>  50             </td><td>  21.0           </td><td>  92.0           </td></tr>\n",
       "\t<tr><th scope=row>124</th><td>SORBI_3009G049800</td><td>Chr8             </td><td>SORBI_3009G049800</td><td>   0.1           </td><td>   0.2           </td><td>   1             </td><td>  11             </td><td>   0.1           </td><td>   0.1           </td></tr>\n",
       "\t<tr><th scope=row>125</th><td>SORBI_3009G066900</td><td>Chr8             </td><td>SORBI_3009G066900</td><td> 374.0           </td><td> 103.0           </td><td> 272             </td><td> 105             </td><td>  88.0           </td><td> 305.0           </td></tr>\n",
       "\t<tr><th scope=row>126</th><td>SORBI_3009G067000</td><td>Chr8             </td><td>SORBI_3009G067000</td><td> 212.0           </td><td> 109.0           </td><td> 279             </td><td> 228             </td><td>  70.0           </td><td> 257.0           </td></tr>\n",
       "\t<tr><th scope=row>127</th><td>SORBI_3009G075800</td><td>Chr8             </td><td>SORBI_3009G075800</td><td>  19.0           </td><td>  10.0           </td><td>  23             </td><td>  19             </td><td>  10.0           </td><td>  24.0           </td></tr>\n",
       "\t<tr><th scope=row>128</th><td>SORBI_3009G098100</td><td>Chr8             </td><td>SORBI_3009G098100</td><td>  82.0           </td><td>  42.0           </td><td>  75             </td><td>   8             </td><td> 424.0           </td><td> 102.0           </td></tr>\n",
       "\t<tr><th scope=row>129</th><td>SORBI_3009G126300</td><td>Chr8             </td><td>SORBI_3009G126300</td><td>  72.0           </td><td>  37.0           </td><td>  67             </td><td>  50             </td><td>  24.0           </td><td>  68.0           </td></tr>\n",
       "\t<tr><th scope=row>130</th><td>SORBI_3009G214100</td><td>Chr8             </td><td>SORBI_3009G214100</td><td> 187.0           </td><td>  43.0           </td><td> 124             </td><td>  72             </td><td>  15.0           </td><td> 191.0           </td></tr>\n",
       "\t<tr><th scope=row>131</th><td>SORBI_3009G251100</td><td>Chr8             </td><td>SORBI_3009G251100</td><td>  52.0           </td><td>   6.0           </td><td>  74             </td><td>  43             </td><td>  19.0           </td><td>  45.0           </td></tr>\n",
       "\t<tr><th scope=row>132</th><td>SORBI_3010G011200</td><td>Chr8             </td><td>SORBI_3010G011200</td><td> 255.0           </td><td>  79.0           </td><td> 340             </td><td>  78             </td><td> 482.0           </td><td> 267.0           </td></tr>\n",
       "\t<tr><th scope=row>133</th><td>SORBI_3010G085600</td><td>Chr8             </td><td>SORBI_3010G085600</td><td>  16.0           </td><td>  13.0           </td><td>  39             </td><td>  29             </td><td>  12.0           </td><td>  17.0           </td></tr>\n",
       "\t<tr><th scope=row>134</th><td>SORBI_3010G094500</td><td>Chr8             </td><td>SORBI_3010G094500</td><td>  60.0           </td><td>  41.0           </td><td>  66             </td><td>  52             </td><td>  22.0           </td><td>  75.0           </td></tr>\n",
       "\t<tr><th scope=row>135</th><td>SORBI_3010G169300</td><td>Chr8             </td><td>SORBI_3010G169300</td><td> 135.0           </td><td>  64.0           </td><td> 145             </td><td>  81             </td><td>  19.0           </td><td> 150.0           </td></tr>\n",
       "\t<tr><th scope=row>136</th><td>SORBI_3010G178500</td><td>Chr8             </td><td>SORBI_3010G178500</td><td>  29.0           </td><td>   0.8           </td><td>   4             </td><td>   7             </td><td>   0.6           </td><td>   5.0           </td></tr>\n",
       "\t<tr><th scope=row>137</th><td>SORBI_3010G230600</td><td>Chr8             </td><td>SORBI_3010G230600</td><td>  39.0           </td><td>  30.0           </td><td>  29             </td><td>  32             </td><td>  17.0           </td><td>  40.0           </td></tr>\n",
       "\t<tr><th scope=row>138</th><td>SORBI_3010G267400</td><td>Chr8             </td><td>SORBI_3010G267400</td><td> 479.0           </td><td> 187.0           </td><td> 297             </td><td> 487             </td><td> 181.0           </td><td> 436.0           </td></tr>\n",
       "</tbody>\n",
       "</table>\n"
      ],
      "text/latex": [
       "\\begin{tabular}{r|lllllllll}\n",
       "  & GeneID & group & Gene.Name & floral.meristem & flower & plant.embryo & root & shoot & vegetative.meristem\\\\\n",
       "\\hline\n",
       "\t1 & SORBI\\_3002G175400 & Chr4                & SORBI\\_3002G175400 &   60.0              &   58.0              &   38.0              &   28.0              &  75.0               &   60.0             \\\\\n",
       "\t6 & SORBI\\_3004G260600 & Chr4                & DES2                &    0.2              &    0.5              &    0.9              &    3.0              &   1.0               &    0.1             \\\\\n",
       "\t7 & SORBI\\_3004G260800 & Chr4                & SORBI\\_3004G260800 &  195.0              &  579.0              &  711.0              &  316.0              & 727.0               &  187.0             \\\\\n",
       "\t9 & SORBI\\_3004G312500 & Chr4                & SORBI\\_3004G312500 &    7.0              &    0.1              &    7.0              &  258.0              &   5.0               &    5.0             \\\\\n",
       "\t10 & SORBI\\_3006G111700 & Chr4                & SORBI\\_3006G111700 &   56.0              &   39.0              &   51.0              &   23.0              &  22.0               &   69.0             \\\\\n",
       "\t11 & SORBI\\_3007G153900 & Chr4                & SORBI\\_3007G153900 &    0.9              &    6.0              &    1.0              &  260.0              & 212.0               &    0.8             \\\\\n",
       "\t12 & SORBI\\_3010G181500 & Chr4                & SORBI\\_3010G181500 &   52.0              &   18.0              &   36.0              &   34.0              &  29.0               &   53.0             \\\\\n",
       "\t13 & SORBI\\_3001G003100 & Chr8                & SORBI\\_3001G003100 &  129.0              &   77.0              &  334.0              &  180.0              & 182.0               &  174.0             \\\\\n",
       "\t14 & SORBI\\_3001G032800 & Chr8                & SORBI\\_3001G032800 &  114.0              &   77.0              &  104.0              &   72.0              &  48.0               &  103.0             \\\\\n",
       "\t16 & SORBI\\_3001G064500 & Chr8                & SORBI\\_3001G064500 &  327.0              &  184.0              &  183.0              &  210.0              &  93.0               &  288.0             \\\\\n",
       "\t17 & SORBI\\_3001G088500 & Chr8                & SORBI\\_3001G088500 &   52.0              &   38.0              &   41.0              &   48.0              &  39.0               &   48.0             \\\\\n",
       "\t19 & SORBI\\_3001G120500 & Chr8                & SORBI\\_3001G120500 &   34.0              &   26.0              &   49.0              &   43.0              &  45.0               &   33.0             \\\\\n",
       "\t20 & SORBI\\_3001G129000 & Chr8                & SORBI\\_3001G129000 &  183.0              &   89.0              &  160.0              &   43.0              & 373.0               &  171.0             \\\\\n",
       "\t23 & SORBI\\_3001G137600 & Chr8                & SORBI\\_3001G137600 &   86.0              &   28.0              &    5.0              &    0.5              &   0.2               &   73.0             \\\\\n",
       "\t24 & SORBI\\_3001G137800 & Chr8                & SORBI\\_3001G137800 &   35.0              &   33.0              &   10.0              &    2.0              &   0.4               &   18.0             \\\\\n",
       "\t25 & SORBI\\_3001G149600 & Chr8                & SORBI\\_3001G149600 &   32.0              &    9.0              &   21.0              &    8.0              &   5.0               &   32.0             \\\\\n",
       "\t26 & SORBI\\_3001G154100 & Chr8                & SORBI\\_3001G154100 & 3966.0              & 1662.0              & 1767.0              & 1003.0              & 360.0               & 3233.0             \\\\\n",
       "\t27 & SORBI\\_3001G158700 & Chr8                & SORBI\\_3001G158700 &   82.0              &   91.0              &    4.0              &    0.6              &   2.0               &   60.0             \\\\\n",
       "\t28 & SORBI\\_3001G193500 & Chr8                & SORBI\\_3001G193500 &  279.0              &   99.0              &  293.0              &  125.0              &  56.0               &  279.0             \\\\\n",
       "\t29 & SORBI\\_3001G228200 & Chr8                & SORBI\\_3001G228200 &  230.0              &   49.0              &  303.0              &  256.0              &  30.0               &  262.0             \\\\\n",
       "\t30 & SORBI\\_3007G108100 & Chr8                & SORBI\\_3007G108100 &  819.0              &  375.0              &  792.0              &  563.0              & 193.0               &  817.0             \\\\\n",
       "\t31 & SORBI\\_3001G366300 & Chr8                & SORBI\\_3001G366300 &   14.0              &    2.0              &   67.0              &    3.0              &   0.5               &   17.0             \\\\\n",
       "\t32 & SORBI\\_3001G371400 & Chr8                & SORBI\\_3001G371400 &  386.0              &  290.0              &  326.0              &  397.0              & 164.0               &  509.0             \\\\\n",
       "\t33 & SORBI\\_3001G418600 & Chr8                & SORBI\\_3001G418600 &   17.0              &    0.5              &    2.0              &    0.1              &   0.3               &    0.3             \\\\\n",
       "\t35 & SORBI\\_3009G163900 & Chr8                & SORBI\\_3009G163900 &  345.0              &   35.0              &  140.0              &   34.0              &   4.0               &  309.0             \\\\\n",
       "\t36 & SORBI\\_3001G419900 & Chr8                & SORBI\\_3001G419900 &    2.0              &    1.0              &    1.0              &    0.3              &   0.7               &    2.0             \\\\\n",
       "\t40 & SORBI\\_3001G420100 & Chr8                & SORBI\\_3001G420100 &    2.0              &   78.0              &    9.0              &   94.0              &  47.0               &    2.0             \\\\\n",
       "\t41 & SORBI\\_3001G423100 & Chr8                & SORBI\\_3001G423100 &   54.0              &   14.0              &   13.0              &   17.0              &  37.0               &   25.0             \\\\\n",
       "\t42 & SORBI\\_3001G428400 & Chr8                & SORBI\\_3001G428400 &  151.0              &   52.0              &   98.0              &   64.0              &  27.0               &  146.0             \\\\\n",
       "\t43 & SORBI\\_3001G437801 & Chr8                & SORBI\\_3001G437801 &   25.0              &   11.0              &   12.0              &    3.0              &  53.0               &   25.0             \\\\\n",
       "\t... & ... & ... & ... & ... & ... & ... & ... & ... & ...\\\\\n",
       "\t103 & SORBI\\_3006G088000 & Chr8                & SORBI\\_3006G088000 &  118.0              &   68.0              &   85                &   63                &  136.0              &  137.0             \\\\\n",
       "\t104 & SORBI\\_3006G278700 & Chr8                & SORBI\\_3006G278700 &   50.0              &   30.0              &   42                &   37                &   18.0              &   56.0             \\\\\n",
       "\t105 & SORBI\\_3007G060000 & Chr8                & SORBI\\_3007G060000 &   13.0              &    4.0              &   16                &    1                &    2.0              &   12.0             \\\\\n",
       "\t106 & SORBI\\_3007G106400 & Chr8                & SORBI\\_3007G106400 &  582.0              &  715.0              &  351                &  396                &  364.0              &  448.0             \\\\\n",
       "\t108 & SORBI\\_3007G192700 & Chr8                & SORBI\\_3007G192700 &  365.0              &  382.0              &  512                &  489                &  166.0              &  501.0             \\\\\n",
       "\t109 & SORBI\\_3007G207400 & Chr8                & SORBI\\_3007G207400 &   56.0              &   40.0              &   63                &   38                &   25.0              &   63.0             \\\\\n",
       "\t110 & SORBI\\_3007G224100 & Chr8                & SORBI\\_3007G224100 &  163.0              &   58.0              &  158                &   59                &  191.0              &  134.0             \\\\\n",
       "\t114 & SORBI\\_3008G088200 & Chr8                & SORBI\\_3008G088200 &  183.0              &  132.0              &  269                &  115                &  338.0              &  177.0             \\\\\n",
       "\t115 & SORBI\\_3008G100100 & Chr8                & SORBI\\_3008G100100 &  124.0              &   54.0              &   84                &   55                &   34.0              &  120.0             \\\\\n",
       "\t116 & SORBI\\_3008G111600 & Chr8                & SORBI\\_3008G111600 &  157.0              &   43.0              &  155                &   66                &   22.0              &  179.0             \\\\\n",
       "\t117 & SORBI\\_3008G124900 & Chr8                & SORBI\\_3008G124900 &   41.0              &   27.0              &   62                &   32                &   18.0              &   46.0             \\\\\n",
       "\t118 & SORBI\\_3008G136000 & Chr8                & SORBI\\_3008G136000 & 5927.0              & 1388.0              & 1410                & 2428                & 1053.0              & 4587.0             \\\\\n",
       "\t120 & SORBI\\_3008G188800 & Chr8                & SORBI\\_3008G188800 &   57.0              &   33.0              &   28                &    3                &    0.9              &   42.0             \\\\\n",
       "\t121 & SORBI\\_3009G002000 & Chr8                & SORBI\\_3009G002000 &   65.0              &   32.0              &   81                &   44                &   21.0              &   76.0             \\\\\n",
       "\t122 & SORBI\\_3009G030300 & Chr8                & SORBI\\_3009G030300 &   90.0              &   37.0              &   65                &   50                &   21.0              &   92.0             \\\\\n",
       "\t124 & SORBI\\_3009G049800 & Chr8                & SORBI\\_3009G049800 &    0.1              &    0.2              &    1                &   11                &    0.1              &    0.1             \\\\\n",
       "\t125 & SORBI\\_3009G066900 & Chr8                & SORBI\\_3009G066900 &  374.0              &  103.0              &  272                &  105                &   88.0              &  305.0             \\\\\n",
       "\t126 & SORBI\\_3009G067000 & Chr8                & SORBI\\_3009G067000 &  212.0              &  109.0              &  279                &  228                &   70.0              &  257.0             \\\\\n",
       "\t127 & SORBI\\_3009G075800 & Chr8                & SORBI\\_3009G075800 &   19.0              &   10.0              &   23                &   19                &   10.0              &   24.0             \\\\\n",
       "\t128 & SORBI\\_3009G098100 & Chr8                & SORBI\\_3009G098100 &   82.0              &   42.0              &   75                &    8                &  424.0              &  102.0             \\\\\n",
       "\t129 & SORBI\\_3009G126300 & Chr8                & SORBI\\_3009G126300 &   72.0              &   37.0              &   67                &   50                &   24.0              &   68.0             \\\\\n",
       "\t130 & SORBI\\_3009G214100 & Chr8                & SORBI\\_3009G214100 &  187.0              &   43.0              &  124                &   72                &   15.0              &  191.0             \\\\\n",
       "\t131 & SORBI\\_3009G251100 & Chr8                & SORBI\\_3009G251100 &   52.0              &    6.0              &   74                &   43                &   19.0              &   45.0             \\\\\n",
       "\t132 & SORBI\\_3010G011200 & Chr8                & SORBI\\_3010G011200 &  255.0              &   79.0              &  340                &   78                &  482.0              &  267.0             \\\\\n",
       "\t133 & SORBI\\_3010G085600 & Chr8                & SORBI\\_3010G085600 &   16.0              &   13.0              &   39                &   29                &   12.0              &   17.0             \\\\\n",
       "\t134 & SORBI\\_3010G094500 & Chr8                & SORBI\\_3010G094500 &   60.0              &   41.0              &   66                &   52                &   22.0              &   75.0             \\\\\n",
       "\t135 & SORBI\\_3010G169300 & Chr8                & SORBI\\_3010G169300 &  135.0              &   64.0              &  145                &   81                &   19.0              &  150.0             \\\\\n",
       "\t136 & SORBI\\_3010G178500 & Chr8                & SORBI\\_3010G178500 &   29.0              &    0.8              &    4                &    7                &    0.6              &    5.0             \\\\\n",
       "\t137 & SORBI\\_3010G230600 & Chr8                & SORBI\\_3010G230600 &   39.0              &   30.0              &   29                &   32                &   17.0              &   40.0             \\\\\n",
       "\t138 & SORBI\\_3010G267400 & Chr8                & SORBI\\_3010G267400 &  479.0              &  187.0              &  297                &  487                &  181.0              &  436.0             \\\\\n",
       "\\end{tabular}\n"
      ],
      "text/markdown": [
       "\n",
       "| <!--/--> | GeneID | group | Gene.Name | floral.meristem | flower | plant.embryo | root | shoot | vegetative.meristem |\n",
       "|---|---|---|---|---|---|---|---|---|---|\n",
       "| 1 | SORBI_3002G175400 | Chr4              | SORBI_3002G175400 |   60.0            |   58.0            |   38.0            |   28.0            |  75.0             |   60.0            |\n",
       "| 6 | SORBI_3004G260600 | Chr4              | DES2              |    0.2            |    0.5            |    0.9            |    3.0            |   1.0             |    0.1            |\n",
       "| 7 | SORBI_3004G260800 | Chr4              | SORBI_3004G260800 |  195.0            |  579.0            |  711.0            |  316.0            | 727.0             |  187.0            |\n",
       "| 9 | SORBI_3004G312500 | Chr4              | SORBI_3004G312500 |    7.0            |    0.1            |    7.0            |  258.0            |   5.0             |    5.0            |\n",
       "| 10 | SORBI_3006G111700 | Chr4              | SORBI_3006G111700 |   56.0            |   39.0            |   51.0            |   23.0            |  22.0             |   69.0            |\n",
       "| 11 | SORBI_3007G153900 | Chr4              | SORBI_3007G153900 |    0.9            |    6.0            |    1.0            |  260.0            | 212.0             |    0.8            |\n",
       "| 12 | SORBI_3010G181500 | Chr4              | SORBI_3010G181500 |   52.0            |   18.0            |   36.0            |   34.0            |  29.0             |   53.0            |\n",
       "| 13 | SORBI_3001G003100 | Chr8              | SORBI_3001G003100 |  129.0            |   77.0            |  334.0            |  180.0            | 182.0             |  174.0            |\n",
       "| 14 | SORBI_3001G032800 | Chr8              | SORBI_3001G032800 |  114.0            |   77.0            |  104.0            |   72.0            |  48.0             |  103.0            |\n",
       "| 16 | SORBI_3001G064500 | Chr8              | SORBI_3001G064500 |  327.0            |  184.0            |  183.0            |  210.0            |  93.0             |  288.0            |\n",
       "| 17 | SORBI_3001G088500 | Chr8              | SORBI_3001G088500 |   52.0            |   38.0            |   41.0            |   48.0            |  39.0             |   48.0            |\n",
       "| 19 | SORBI_3001G120500 | Chr8              | SORBI_3001G120500 |   34.0            |   26.0            |   49.0            |   43.0            |  45.0             |   33.0            |\n",
       "| 20 | SORBI_3001G129000 | Chr8              | SORBI_3001G129000 |  183.0            |   89.0            |  160.0            |   43.0            | 373.0             |  171.0            |\n",
       "| 23 | SORBI_3001G137600 | Chr8              | SORBI_3001G137600 |   86.0            |   28.0            |    5.0            |    0.5            |   0.2             |   73.0            |\n",
       "| 24 | SORBI_3001G137800 | Chr8              | SORBI_3001G137800 |   35.0            |   33.0            |   10.0            |    2.0            |   0.4             |   18.0            |\n",
       "| 25 | SORBI_3001G149600 | Chr8              | SORBI_3001G149600 |   32.0            |    9.0            |   21.0            |    8.0            |   5.0             |   32.0            |\n",
       "| 26 | SORBI_3001G154100 | Chr8              | SORBI_3001G154100 | 3966.0            | 1662.0            | 1767.0            | 1003.0            | 360.0             | 3233.0            |\n",
       "| 27 | SORBI_3001G158700 | Chr8              | SORBI_3001G158700 |   82.0            |   91.0            |    4.0            |    0.6            |   2.0             |   60.0            |\n",
       "| 28 | SORBI_3001G193500 | Chr8              | SORBI_3001G193500 |  279.0            |   99.0            |  293.0            |  125.0            |  56.0             |  279.0            |\n",
       "| 29 | SORBI_3001G228200 | Chr8              | SORBI_3001G228200 |  230.0            |   49.0            |  303.0            |  256.0            |  30.0             |  262.0            |\n",
       "| 30 | SORBI_3007G108100 | Chr8              | SORBI_3007G108100 |  819.0            |  375.0            |  792.0            |  563.0            | 193.0             |  817.0            |\n",
       "| 31 | SORBI_3001G366300 | Chr8              | SORBI_3001G366300 |   14.0            |    2.0            |   67.0            |    3.0            |   0.5             |   17.0            |\n",
       "| 32 | SORBI_3001G371400 | Chr8              | SORBI_3001G371400 |  386.0            |  290.0            |  326.0            |  397.0            | 164.0             |  509.0            |\n",
       "| 33 | SORBI_3001G418600 | Chr8              | SORBI_3001G418600 |   17.0            |    0.5            |    2.0            |    0.1            |   0.3             |    0.3            |\n",
       "| 35 | SORBI_3009G163900 | Chr8              | SORBI_3009G163900 |  345.0            |   35.0            |  140.0            |   34.0            |   4.0             |  309.0            |\n",
       "| 36 | SORBI_3001G419900 | Chr8              | SORBI_3001G419900 |    2.0            |    1.0            |    1.0            |    0.3            |   0.7             |    2.0            |\n",
       "| 40 | SORBI_3001G420100 | Chr8              | SORBI_3001G420100 |    2.0            |   78.0            |    9.0            |   94.0            |  47.0             |    2.0            |\n",
       "| 41 | SORBI_3001G423100 | Chr8              | SORBI_3001G423100 |   54.0            |   14.0            |   13.0            |   17.0            |  37.0             |   25.0            |\n",
       "| 42 | SORBI_3001G428400 | Chr8              | SORBI_3001G428400 |  151.0            |   52.0            |   98.0            |   64.0            |  27.0             |  146.0            |\n",
       "| 43 | SORBI_3001G437801 | Chr8              | SORBI_3001G437801 |   25.0            |   11.0            |   12.0            |    3.0            |  53.0             |   25.0            |\n",
       "| ... | ... | ... | ... | ... | ... | ... | ... | ... | ... |\n",
       "| 103 | SORBI_3006G088000 | Chr8              | SORBI_3006G088000 |  118.0            |   68.0            |   85              |   63              |  136.0            |  137.0            |\n",
       "| 104 | SORBI_3006G278700 | Chr8              | SORBI_3006G278700 |   50.0            |   30.0            |   42              |   37              |   18.0            |   56.0            |\n",
       "| 105 | SORBI_3007G060000 | Chr8              | SORBI_3007G060000 |   13.0            |    4.0            |   16              |    1              |    2.0            |   12.0            |\n",
       "| 106 | SORBI_3007G106400 | Chr8              | SORBI_3007G106400 |  582.0            |  715.0            |  351              |  396              |  364.0            |  448.0            |\n",
       "| 108 | SORBI_3007G192700 | Chr8              | SORBI_3007G192700 |  365.0            |  382.0            |  512              |  489              |  166.0            |  501.0            |\n",
       "| 109 | SORBI_3007G207400 | Chr8              | SORBI_3007G207400 |   56.0            |   40.0            |   63              |   38              |   25.0            |   63.0            |\n",
       "| 110 | SORBI_3007G224100 | Chr8              | SORBI_3007G224100 |  163.0            |   58.0            |  158              |   59              |  191.0            |  134.0            |\n",
       "| 114 | SORBI_3008G088200 | Chr8              | SORBI_3008G088200 |  183.0            |  132.0            |  269              |  115              |  338.0            |  177.0            |\n",
       "| 115 | SORBI_3008G100100 | Chr8              | SORBI_3008G100100 |  124.0            |   54.0            |   84              |   55              |   34.0            |  120.0            |\n",
       "| 116 | SORBI_3008G111600 | Chr8              | SORBI_3008G111600 |  157.0            |   43.0            |  155              |   66              |   22.0            |  179.0            |\n",
       "| 117 | SORBI_3008G124900 | Chr8              | SORBI_3008G124900 |   41.0            |   27.0            |   62              |   32              |   18.0            |   46.0            |\n",
       "| 118 | SORBI_3008G136000 | Chr8              | SORBI_3008G136000 | 5927.0            | 1388.0            | 1410              | 2428              | 1053.0            | 4587.0            |\n",
       "| 120 | SORBI_3008G188800 | Chr8              | SORBI_3008G188800 |   57.0            |   33.0            |   28              |    3              |    0.9            |   42.0            |\n",
       "| 121 | SORBI_3009G002000 | Chr8              | SORBI_3009G002000 |   65.0            |   32.0            |   81              |   44              |   21.0            |   76.0            |\n",
       "| 122 | SORBI_3009G030300 | Chr8              | SORBI_3009G030300 |   90.0            |   37.0            |   65              |   50              |   21.0            |   92.0            |\n",
       "| 124 | SORBI_3009G049800 | Chr8              | SORBI_3009G049800 |    0.1            |    0.2            |    1              |   11              |    0.1            |    0.1            |\n",
       "| 125 | SORBI_3009G066900 | Chr8              | SORBI_3009G066900 |  374.0            |  103.0            |  272              |  105              |   88.0            |  305.0            |\n",
       "| 126 | SORBI_3009G067000 | Chr8              | SORBI_3009G067000 |  212.0            |  109.0            |  279              |  228              |   70.0            |  257.0            |\n",
       "| 127 | SORBI_3009G075800 | Chr8              | SORBI_3009G075800 |   19.0            |   10.0            |   23              |   19              |   10.0            |   24.0            |\n",
       "| 128 | SORBI_3009G098100 | Chr8              | SORBI_3009G098100 |   82.0            |   42.0            |   75              |    8              |  424.0            |  102.0            |\n",
       "| 129 | SORBI_3009G126300 | Chr8              | SORBI_3009G126300 |   72.0            |   37.0            |   67              |   50              |   24.0            |   68.0            |\n",
       "| 130 | SORBI_3009G214100 | Chr8              | SORBI_3009G214100 |  187.0            |   43.0            |  124              |   72              |   15.0            |  191.0            |\n",
       "| 131 | SORBI_3009G251100 | Chr8              | SORBI_3009G251100 |   52.0            |    6.0            |   74              |   43              |   19.0            |   45.0            |\n",
       "| 132 | SORBI_3010G011200 | Chr8              | SORBI_3010G011200 |  255.0            |   79.0            |  340              |   78              |  482.0            |  267.0            |\n",
       "| 133 | SORBI_3010G085600 | Chr8              | SORBI_3010G085600 |   16.0            |   13.0            |   39              |   29              |   12.0            |   17.0            |\n",
       "| 134 | SORBI_3010G094500 | Chr8              | SORBI_3010G094500 |   60.0            |   41.0            |   66              |   52              |   22.0            |   75.0            |\n",
       "| 135 | SORBI_3010G169300 | Chr8              | SORBI_3010G169300 |  135.0            |   64.0            |  145              |   81              |   19.0            |  150.0            |\n",
       "| 136 | SORBI_3010G178500 | Chr8              | SORBI_3010G178500 |   29.0            |    0.8            |    4              |    7              |    0.6            |    5.0            |\n",
       "| 137 | SORBI_3010G230600 | Chr8              | SORBI_3010G230600 |   39.0            |   30.0            |   29              |   32              |   17.0            |   40.0            |\n",
       "| 138 | SORBI_3010G267400 | Chr8              | SORBI_3010G267400 |  479.0            |  187.0            |  297              |  487              |  181.0            |  436.0            |\n",
       "\n"
      ],
      "text/plain": [
       "    GeneID            group Gene.Name         floral.meristem flower\n",
       "1   SORBI_3002G175400 Chr4  SORBI_3002G175400   60.0            58.0\n",
       "6   SORBI_3004G260600 Chr4  DES2                 0.2             0.5\n",
       "7   SORBI_3004G260800 Chr4  SORBI_3004G260800  195.0           579.0\n",
       "9   SORBI_3004G312500 Chr4  SORBI_3004G312500    7.0             0.1\n",
       "10  SORBI_3006G111700 Chr4  SORBI_3006G111700   56.0            39.0\n",
       "11  SORBI_3007G153900 Chr4  SORBI_3007G153900    0.9             6.0\n",
       "12  SORBI_3010G181500 Chr4  SORBI_3010G181500   52.0            18.0\n",
       "13  SORBI_3001G003100 Chr8  SORBI_3001G003100  129.0            77.0\n",
       "14  SORBI_3001G032800 Chr8  SORBI_3001G032800  114.0            77.0\n",
       "16  SORBI_3001G064500 Chr8  SORBI_3001G064500  327.0           184.0\n",
       "17  SORBI_3001G088500 Chr8  SORBI_3001G088500   52.0            38.0\n",
       "19  SORBI_3001G120500 Chr8  SORBI_3001G120500   34.0            26.0\n",
       "20  SORBI_3001G129000 Chr8  SORBI_3001G129000  183.0            89.0\n",
       "23  SORBI_3001G137600 Chr8  SORBI_3001G137600   86.0            28.0\n",
       "24  SORBI_3001G137800 Chr8  SORBI_3001G137800   35.0            33.0\n",
       "25  SORBI_3001G149600 Chr8  SORBI_3001G149600   32.0             9.0\n",
       "26  SORBI_3001G154100 Chr8  SORBI_3001G154100 3966.0          1662.0\n",
       "27  SORBI_3001G158700 Chr8  SORBI_3001G158700   82.0            91.0\n",
       "28  SORBI_3001G193500 Chr8  SORBI_3001G193500  279.0            99.0\n",
       "29  SORBI_3001G228200 Chr8  SORBI_3001G228200  230.0            49.0\n",
       "30  SORBI_3007G108100 Chr8  SORBI_3007G108100  819.0           375.0\n",
       "31  SORBI_3001G366300 Chr8  SORBI_3001G366300   14.0             2.0\n",
       "32  SORBI_3001G371400 Chr8  SORBI_3001G371400  386.0           290.0\n",
       "33  SORBI_3001G418600 Chr8  SORBI_3001G418600   17.0             0.5\n",
       "35  SORBI_3009G163900 Chr8  SORBI_3009G163900  345.0            35.0\n",
       "36  SORBI_3001G419900 Chr8  SORBI_3001G419900    2.0             1.0\n",
       "40  SORBI_3001G420100 Chr8  SORBI_3001G420100    2.0            78.0\n",
       "41  SORBI_3001G423100 Chr8  SORBI_3001G423100   54.0            14.0\n",
       "42  SORBI_3001G428400 Chr8  SORBI_3001G428400  151.0            52.0\n",
       "43  SORBI_3001G437801 Chr8  SORBI_3001G437801   25.0            11.0\n",
       "... ...               ...   ...               ...             ...   \n",
       "103 SORBI_3006G088000 Chr8  SORBI_3006G088000  118.0            68.0\n",
       "104 SORBI_3006G278700 Chr8  SORBI_3006G278700   50.0            30.0\n",
       "105 SORBI_3007G060000 Chr8  SORBI_3007G060000   13.0             4.0\n",
       "106 SORBI_3007G106400 Chr8  SORBI_3007G106400  582.0           715.0\n",
       "108 SORBI_3007G192700 Chr8  SORBI_3007G192700  365.0           382.0\n",
       "109 SORBI_3007G207400 Chr8  SORBI_3007G207400   56.0            40.0\n",
       "110 SORBI_3007G224100 Chr8  SORBI_3007G224100  163.0            58.0\n",
       "114 SORBI_3008G088200 Chr8  SORBI_3008G088200  183.0           132.0\n",
       "115 SORBI_3008G100100 Chr8  SORBI_3008G100100  124.0            54.0\n",
       "116 SORBI_3008G111600 Chr8  SORBI_3008G111600  157.0            43.0\n",
       "117 SORBI_3008G124900 Chr8  SORBI_3008G124900   41.0            27.0\n",
       "118 SORBI_3008G136000 Chr8  SORBI_3008G136000 5927.0          1388.0\n",
       "120 SORBI_3008G188800 Chr8  SORBI_3008G188800   57.0            33.0\n",
       "121 SORBI_3009G002000 Chr8  SORBI_3009G002000   65.0            32.0\n",
       "122 SORBI_3009G030300 Chr8  SORBI_3009G030300   90.0            37.0\n",
       "124 SORBI_3009G049800 Chr8  SORBI_3009G049800    0.1             0.2\n",
       "125 SORBI_3009G066900 Chr8  SORBI_3009G066900  374.0           103.0\n",
       "126 SORBI_3009G067000 Chr8  SORBI_3009G067000  212.0           109.0\n",
       "127 SORBI_3009G075800 Chr8  SORBI_3009G075800   19.0            10.0\n",
       "128 SORBI_3009G098100 Chr8  SORBI_3009G098100   82.0            42.0\n",
       "129 SORBI_3009G126300 Chr8  SORBI_3009G126300   72.0            37.0\n",
       "130 SORBI_3009G214100 Chr8  SORBI_3009G214100  187.0            43.0\n",
       "131 SORBI_3009G251100 Chr8  SORBI_3009G251100   52.0             6.0\n",
       "132 SORBI_3010G011200 Chr8  SORBI_3010G011200  255.0            79.0\n",
       "133 SORBI_3010G085600 Chr8  SORBI_3010G085600   16.0            13.0\n",
       "134 SORBI_3010G094500 Chr8  SORBI_3010G094500   60.0            41.0\n",
       "135 SORBI_3010G169300 Chr8  SORBI_3010G169300  135.0            64.0\n",
       "136 SORBI_3010G178500 Chr8  SORBI_3010G178500   29.0             0.8\n",
       "137 SORBI_3010G230600 Chr8  SORBI_3010G230600   39.0            30.0\n",
       "138 SORBI_3010G267400 Chr8  SORBI_3010G267400  479.0           187.0\n",
       "    plant.embryo root   shoot  vegetative.meristem\n",
       "1     38.0         28.0  75.0    60.0             \n",
       "6      0.9          3.0   1.0     0.1             \n",
       "7    711.0        316.0 727.0   187.0             \n",
       "9      7.0        258.0   5.0     5.0             \n",
       "10    51.0         23.0  22.0    69.0             \n",
       "11     1.0        260.0 212.0     0.8             \n",
       "12    36.0         34.0  29.0    53.0             \n",
       "13   334.0        180.0 182.0   174.0             \n",
       "14   104.0         72.0  48.0   103.0             \n",
       "16   183.0        210.0  93.0   288.0             \n",
       "17    41.0         48.0  39.0    48.0             \n",
       "19    49.0         43.0  45.0    33.0             \n",
       "20   160.0         43.0 373.0   171.0             \n",
       "23     5.0          0.5   0.2    73.0             \n",
       "24    10.0          2.0   0.4    18.0             \n",
       "25    21.0          8.0   5.0    32.0             \n",
       "26  1767.0       1003.0 360.0  3233.0             \n",
       "27     4.0          0.6   2.0    60.0             \n",
       "28   293.0        125.0  56.0   279.0             \n",
       "29   303.0        256.0  30.0   262.0             \n",
       "30   792.0        563.0 193.0   817.0             \n",
       "31    67.0          3.0   0.5    17.0             \n",
       "32   326.0        397.0 164.0   509.0             \n",
       "33     2.0          0.1   0.3     0.3             \n",
       "35   140.0         34.0   4.0   309.0             \n",
       "36     1.0          0.3   0.7     2.0             \n",
       "40     9.0         94.0  47.0     2.0             \n",
       "41    13.0         17.0  37.0    25.0             \n",
       "42    98.0         64.0  27.0   146.0             \n",
       "43    12.0          3.0  53.0    25.0             \n",
       "... ...          ...    ...    ...                \n",
       "103   85           63    136.0  137.0             \n",
       "104   42           37     18.0   56.0             \n",
       "105   16            1      2.0   12.0             \n",
       "106  351          396    364.0  448.0             \n",
       "108  512          489    166.0  501.0             \n",
       "109   63           38     25.0   63.0             \n",
       "110  158           59    191.0  134.0             \n",
       "114  269          115    338.0  177.0             \n",
       "115   84           55     34.0  120.0             \n",
       "116  155           66     22.0  179.0             \n",
       "117   62           32     18.0   46.0             \n",
       "118 1410         2428   1053.0 4587.0             \n",
       "120   28            3      0.9   42.0             \n",
       "121   81           44     21.0   76.0             \n",
       "122   65           50     21.0   92.0             \n",
       "124    1           11      0.1    0.1             \n",
       "125  272          105     88.0  305.0             \n",
       "126  279          228     70.0  257.0             \n",
       "127   23           19     10.0   24.0             \n",
       "128   75            8    424.0  102.0             \n",
       "129   67           50     24.0   68.0             \n",
       "130  124           72     15.0  191.0             \n",
       "131   74           43     19.0   45.0             \n",
       "132  340           78    482.0  267.0             \n",
       "133   39           29     12.0   17.0             \n",
       "134   66           52     22.0   75.0             \n",
       "135  145           81     19.0  150.0             \n",
       "136    4            7      0.6    5.0             \n",
       "137   29           32     17.0   40.0             \n",
       "138  297          487    181.0  436.0             "
      ]
     },
     "metadata": {},
     "output_type": "display_data"
    },
    {
     "data": {
      "text/html": [
       "<ol class=list-inline>\n",
       "\t<li>110</li>\n",
       "\t<li>1</li>\n",
       "</ol>\n"
      ],
      "text/latex": [
       "\\begin{enumerate*}\n",
       "\\item 110\n",
       "\\item 1\n",
       "\\end{enumerate*}\n"
      ],
      "text/markdown": [
       "1. 110\n",
       "2. 1\n",
       "\n",
       "\n"
      ],
      "text/plain": [
       "[1] 110   1"
      ]
     },
     "metadata": {},
     "output_type": "display_data"
    },
    {
     "data": {
      "text/html": [
       "<ol class=list-inline>\n",
       "\t<li>110</li>\n",
       "\t<li>7</li>\n",
       "</ol>\n"
      ],
      "text/latex": [
       "\\begin{enumerate*}\n",
       "\\item 110\n",
       "\\item 7\n",
       "\\end{enumerate*}\n"
      ],
      "text/markdown": [
       "1. 110\n",
       "2. 7\n",
       "\n",
       "\n"
      ],
      "text/plain": [
       "[1] 110   7"
      ]
     },
     "metadata": {},
     "output_type": "display_data"
    }
   ],
   "source": [
    "\n",
    "exp <- read.table('results/expression/GeneExp_TPM_Olson.csv', sep=',', header=T)\n",
    "exp1 <- df4 %>% left_join(exp, by=\"GeneID\")\n",
    "exp1 <- exp1[complete.cases(exp1),]\n",
    "#exp1[is.na(exp1)] <- 1\n",
    "exp1\n",
    "log <- log2(exp1[,-c(1,2,3)])\n",
    "rownames(log) <- exp1$GeneID\n",
    "annotation <- data.frame(exp1[,2])\n",
    "rownames(annotation) <- rownames(log)\n",
    "colnames(annotation) <- c('group')\n",
    "dim(annotation)\n",
    "log$group <- exp1$group\n",
    "write.csv(log, 'results/expression/Olson_GeneExp_GenesInteractors.csv',row.names=TRUE)\n",
    "dim(log)\n",
    "#png('results/expression/Heatmap_GeneExp_Chr4_8_GenesInteractors.png', height=900,width=900)\n",
    "#pheatmap(log, cluster_rows=T, cluster_cols=T, angle_col=45)\n",
    "#dev.off()"
   ]
  },
  {
   "cell_type": "code",
   "execution_count": 13,
   "metadata": {},
   "outputs": [
    {
     "data": {
      "text/html": [
       "<ol class=list-inline>\n",
       "\t<li>129</li>\n",
       "\t<li>1</li>\n",
       "</ol>\n"
      ],
      "text/latex": [
       "\\begin{enumerate*}\n",
       "\\item 129\n",
       "\\item 1\n",
       "\\end{enumerate*}\n"
      ],
      "text/markdown": [
       "1. 129\n",
       "2. 1\n",
       "\n",
       "\n"
      ],
      "text/plain": [
       "[1] 129   1"
      ]
     },
     "metadata": {},
     "output_type": "display_data"
    },
    {
     "data": {
      "text/html": [
       "<ol class=list-inline>\n",
       "\t<li>129</li>\n",
       "\t<li>1</li>\n",
       "</ol>\n"
      ],
      "text/latex": [
       "\\begin{enumerate*}\n",
       "\\item 129\n",
       "\\item 1\n",
       "\\end{enumerate*}\n"
      ],
      "text/markdown": [
       "1. 129\n",
       "2. 1\n",
       "\n",
       "\n"
      ],
      "text/plain": [
       "[1] 129   1"
      ]
     },
     "metadata": {},
     "output_type": "display_data"
    }
   ],
   "source": [
    "### merging all genes and interactors from different chromosomes into one\n",
    "c4 <- read.table('results/annotation/Genes_interactors/pub/Chr4_genes_interactors_700_range.txt', header=F)\n",
    "c8 <- read.table('results/annotation/Genes_interactors/Chr8_genes_interactors_700_range.txt', header=F)\n",
    "c10 <- read.table('results/annotation/Genes_interactors/pub/Chr10_genes_interactors_700_range.txt', header=F)\n",
    "\n",
    "df.gi <- rbind(c4,c8,c10)\n",
    "dim(df.gi)\n",
    "df.g <- unique(df.gi)\n",
    "dim(df.g)\n",
    "\n",
    "write.csv(df.g,'results/annotation/Genes_interactors/pub/AllChr_genes_interactors_range_original.txt',row.names=F)"
   ]
  },
  {
   "cell_type": "code",
   "execution_count": 19,
   "metadata": {},
   "outputs": [
    {
     "data": {
      "text/html": [
       "<ol class=list-inline>\n",
       "\t<li>134</li>\n",
       "\t<li>3</li>\n",
       "</ol>\n"
      ],
      "text/latex": [
       "\\begin{enumerate*}\n",
       "\\item 134\n",
       "\\item 3\n",
       "\\end{enumerate*}\n"
      ],
      "text/markdown": [
       "1. 134\n",
       "2. 3\n",
       "\n",
       "\n"
      ],
      "text/plain": [
       "[1] 134   3"
      ]
     },
     "metadata": {},
     "output_type": "display_data"
    },
    {
     "data": {
      "text/html": [
       "<table>\n",
       "<thead><tr><th scope=col>SbID</th><th scope=col>SobicID</th><th scope=col>GeneID</th></tr></thead>\n",
       "<tbody>\n",
       "\t<tr><td>Sb01g000380     </td><td>Sobic.001G003100</td><td>Sobic.001G003100</td></tr>\n",
       "\t<tr><td>Sb01g003070     </td><td>Sobic.001G032800</td><td>Sobic.001G032800</td></tr>\n",
       "\t<tr><td>Sb01g003220     </td><td>Sobic.001G034400</td><td>Sobic.001G034400</td></tr>\n",
       "\t<tr><td>Sb01g005860     </td><td>Sobic.001G064500</td><td>Sobic.001G064500</td></tr>\n",
       "\t<tr><td>Sb01g007980     </td><td>Sobic.001G088500</td><td>Sobic.001G088500</td></tr>\n",
       "\t<tr><td>Sb01g010460     </td><td>Sobic.001G118600</td><td>Sobic.001G118600</td></tr>\n",
       "\t<tr><td>Sb01g010650     </td><td>Sobic.001G120500</td><td>Sobic.001G120500</td></tr>\n",
       "\t<tr><td>Sb01g011310     </td><td>Sobic.001G129000</td><td>Sobic.001G129000</td></tr>\n",
       "\t<tr><td>Sb01g012000     </td><td>Sobic.001G137400</td><td>Sobic.001G137400</td></tr>\n",
       "\t<tr><td>Sb01g012010     </td><td>Sobic.001G137500</td><td>Sobic.001G137500</td></tr>\n",
       "\t<tr><td>Sb01g012020     </td><td>Sobic.001G137600</td><td>Sobic.001G137600</td></tr>\n",
       "\t<tr><td>Sb01g012040     </td><td>Sobic.001G137800</td><td>Sobic.001G137800</td></tr>\n",
       "\t<tr><td>Sb01g013010     </td><td>Sobic.001G149600</td><td>Sobic.001G149600</td></tr>\n",
       "\t<tr><td>Sb01g013390     </td><td>Sobic.001G154100</td><td>Sobic.001G154100</td></tr>\n",
       "\t<tr><td>Sb01g013840     </td><td>Sobic.001G158700</td><td>Sobic.001G158700</td></tr>\n",
       "\t<tr><td>Sb01g017050     </td><td>Sobic.001G193500</td><td>Sobic.001G193500</td></tr>\n",
       "\t<tr><td>Sb01g020010     </td><td>Sobic.001G228200</td><td>Sobic.001G228200</td></tr>\n",
       "\t<tr><td>Sb07g015140     </td><td>Sobic.007G108100</td><td>Sobic.007G108100</td></tr>\n",
       "\t<tr><td>Sb01g034910.1   </td><td>Sobic.001G366300</td><td>Sobic.001G366300</td></tr>\n",
       "\t<tr><td>Sb01g035320     </td><td>Sobic.001G371400</td><td>Sobic.001G371400</td></tr>\n",
       "\t<tr><td>Sb01g039390     </td><td>Sobic.001G418600</td><td>Sobic.001G418600</td></tr>\n",
       "\t<tr><td>Sb01g039430     </td><td>Sobic.001G419000</td><td>Sobic.001G419000</td></tr>\n",
       "\t<tr><td>Sb09g022580     </td><td>Sobic.009G163900</td><td>Sobic.009G163900</td></tr>\n",
       "\t<tr><td>Sb01g039510     </td><td>Sobic.001G419900</td><td>Sobic.001G419900</td></tr>\n",
       "\t<tr><td>Sb01g039460     </td><td>Sobic.001G419300</td><td>Sobic.001G419300</td></tr>\n",
       "\t<tr><td>Sb01g039470     </td><td>Sobic.001G419400</td><td>Sobic.001G419400</td></tr>\n",
       "\t<tr><td>Sb01g039480     </td><td>Sobic.001G419500</td><td>Sobic.001G419500</td></tr>\n",
       "\t<tr><td>Sb01g039510     </td><td>Sobic.001G419900</td><td>Sobic.001G419900</td></tr>\n",
       "\t<tr><td>Sb01g039510     </td><td>Sobic.001G419900</td><td>Sobic.001G419900</td></tr>\n",
       "\t<tr><td>Sb01g039530     </td><td>Sobic.001G420100</td><td>Sobic.001G420100</td></tr>\n",
       "\t<tr><td>...</td><td>...</td><td>...</td></tr>\n",
       "\t<tr><td>Sb08g003340     </td><td>Sobic.008G038700</td><td>Sobic.008G038700</td></tr>\n",
       "\t<tr><td>Sb08g009580     </td><td>Sobic.008G088200</td><td>Sobic.008G088200</td></tr>\n",
       "\t<tr><td>Sb08g015280     </td><td>Sobic.008G100100</td><td>Sobic.008G100100</td></tr>\n",
       "\t<tr><td>Sb08g016560     </td><td>Sobic.008G111600</td><td>Sobic.008G111600</td></tr>\n",
       "\t<tr><td>Sb08g017710     </td><td>Sobic.008G124900</td><td>Sobic.008G124900</td></tr>\n",
       "\t<tr><td>Sb08g018750     </td><td>Sobic.008G136000</td><td>Sobic.008G136000</td></tr>\n",
       "\t<tr><td>Sb08g020470     </td><td>Sobic.008G155900</td><td>Sobic.008G155900</td></tr>\n",
       "\t<tr><td>Sb08g020530     </td><td>Sobic.008G156500</td><td>Sobic.008G156500</td></tr>\n",
       "\t<tr><td>Sb08g022950     </td><td>Sobic.008G188800</td><td>Sobic.008G188800</td></tr>\n",
       "\t<tr><td>Sb09g000390     </td><td>Sobic.009G002000</td><td>Sobic.009G002000</td></tr>\n",
       "\t<tr><td>Sb09g002530     </td><td>Sobic.009G030300</td><td>Sobic.009G030300</td></tr>\n",
       "\t<tr><td>Sb09g004210     </td><td>Sobic.009G049500</td><td>Sobic.009G049500</td></tr>\n",
       "\t<tr><td>Sb09g004240     </td><td>Sobic.009G049800</td><td>Sobic.009G049800</td></tr>\n",
       "\t<tr><td>Sb09g005570     </td><td>Sobic.009G066900</td><td>Sobic.009G066900</td></tr>\n",
       "\t<tr><td>Sb09g005580     </td><td>Sobic.009G067000</td><td>Sobic.009G067000</td></tr>\n",
       "\t<tr><td>Sb09g006380     </td><td>Sobic.009G075800</td><td>Sobic.009G075800</td></tr>\n",
       "\t<tr><td>Sb09g014430     </td><td>Sobic.009G098100</td><td>Sobic.009G098100</td></tr>\n",
       "\t<tr><td>Sb09g019370     </td><td>Sobic.009G126300</td><td>Sobic.009G126300</td></tr>\n",
       "\t<tr><td>Sb09g022580     </td><td>Sobic.009G163900</td><td>Sobic.009G163900</td></tr>\n",
       "\t<tr><td>Sb09g026970     </td><td>Sobic.009G214100</td><td>Sobic.009G214100</td></tr>\n",
       "\t<tr><td>Sb09g030170.1   </td><td>Sobic.009G251100</td><td>Sobic.009G251100</td></tr>\n",
       "\t<tr><td>Sb10g001120     </td><td>Sobic.010G011200</td><td>Sobic.010G011200</td></tr>\n",
       "\t<tr><td>Sb10g007410     </td><td>Sobic.010G085600</td><td>Sobic.010G085600</td></tr>\n",
       "\t<tr><td>Sb01g039510     </td><td>Sobic.001G419900</td><td>Sobic.001G419900</td></tr>\n",
       "\t<tr><td>Sb10g008230     </td><td>Sobic.010G094500</td><td>Sobic.010G094500</td></tr>\n",
       "\t<tr><td>Sb10g022220     </td><td>Sobic.010G169300</td><td>Sobic.010G169300</td></tr>\n",
       "\t<tr><td>Sb10g023010     </td><td>Sobic.010G178500</td><td>Sobic.010G178500</td></tr>\n",
       "\t<tr><td>Sb10g027320     </td><td>Sobic.010G230600</td><td>Sobic.010G230600</td></tr>\n",
       "\t<tr><td>Sb04g003150     </td><td>Sobic.004G036600</td><td>Sobic.004G036600</td></tr>\n",
       "\t<tr><td>Sb10g030240     </td><td>Sobic.010G267400</td><td>Sobic.010G267400</td></tr>\n",
       "</tbody>\n",
       "</table>\n"
      ],
      "text/latex": [
       "\\begin{tabular}{r|lll}\n",
       " SbID & SobicID & GeneID\\\\\n",
       "\\hline\n",
       "\t Sb01g000380      & Sobic.001G003100 & Sobic.001G003100\\\\\n",
       "\t Sb01g003070      & Sobic.001G032800 & Sobic.001G032800\\\\\n",
       "\t Sb01g003220      & Sobic.001G034400 & Sobic.001G034400\\\\\n",
       "\t Sb01g005860      & Sobic.001G064500 & Sobic.001G064500\\\\\n",
       "\t Sb01g007980      & Sobic.001G088500 & Sobic.001G088500\\\\\n",
       "\t Sb01g010460      & Sobic.001G118600 & Sobic.001G118600\\\\\n",
       "\t Sb01g010650      & Sobic.001G120500 & Sobic.001G120500\\\\\n",
       "\t Sb01g011310      & Sobic.001G129000 & Sobic.001G129000\\\\\n",
       "\t Sb01g012000      & Sobic.001G137400 & Sobic.001G137400\\\\\n",
       "\t Sb01g012010      & Sobic.001G137500 & Sobic.001G137500\\\\\n",
       "\t Sb01g012020      & Sobic.001G137600 & Sobic.001G137600\\\\\n",
       "\t Sb01g012040      & Sobic.001G137800 & Sobic.001G137800\\\\\n",
       "\t Sb01g013010      & Sobic.001G149600 & Sobic.001G149600\\\\\n",
       "\t Sb01g013390      & Sobic.001G154100 & Sobic.001G154100\\\\\n",
       "\t Sb01g013840      & Sobic.001G158700 & Sobic.001G158700\\\\\n",
       "\t Sb01g017050      & Sobic.001G193500 & Sobic.001G193500\\\\\n",
       "\t Sb01g020010      & Sobic.001G228200 & Sobic.001G228200\\\\\n",
       "\t Sb07g015140      & Sobic.007G108100 & Sobic.007G108100\\\\\n",
       "\t Sb01g034910.1    & Sobic.001G366300 & Sobic.001G366300\\\\\n",
       "\t Sb01g035320      & Sobic.001G371400 & Sobic.001G371400\\\\\n",
       "\t Sb01g039390      & Sobic.001G418600 & Sobic.001G418600\\\\\n",
       "\t Sb01g039430      & Sobic.001G419000 & Sobic.001G419000\\\\\n",
       "\t Sb09g022580      & Sobic.009G163900 & Sobic.009G163900\\\\\n",
       "\t Sb01g039510      & Sobic.001G419900 & Sobic.001G419900\\\\\n",
       "\t Sb01g039460      & Sobic.001G419300 & Sobic.001G419300\\\\\n",
       "\t Sb01g039470      & Sobic.001G419400 & Sobic.001G419400\\\\\n",
       "\t Sb01g039480      & Sobic.001G419500 & Sobic.001G419500\\\\\n",
       "\t Sb01g039510      & Sobic.001G419900 & Sobic.001G419900\\\\\n",
       "\t Sb01g039510      & Sobic.001G419900 & Sobic.001G419900\\\\\n",
       "\t Sb01g039530      & Sobic.001G420100 & Sobic.001G420100\\\\\n",
       "\t ... & ... & ...\\\\\n",
       "\t Sb08g003340      & Sobic.008G038700 & Sobic.008G038700\\\\\n",
       "\t Sb08g009580      & Sobic.008G088200 & Sobic.008G088200\\\\\n",
       "\t Sb08g015280      & Sobic.008G100100 & Sobic.008G100100\\\\\n",
       "\t Sb08g016560      & Sobic.008G111600 & Sobic.008G111600\\\\\n",
       "\t Sb08g017710      & Sobic.008G124900 & Sobic.008G124900\\\\\n",
       "\t Sb08g018750      & Sobic.008G136000 & Sobic.008G136000\\\\\n",
       "\t Sb08g020470      & Sobic.008G155900 & Sobic.008G155900\\\\\n",
       "\t Sb08g020530      & Sobic.008G156500 & Sobic.008G156500\\\\\n",
       "\t Sb08g022950      & Sobic.008G188800 & Sobic.008G188800\\\\\n",
       "\t Sb09g000390      & Sobic.009G002000 & Sobic.009G002000\\\\\n",
       "\t Sb09g002530      & Sobic.009G030300 & Sobic.009G030300\\\\\n",
       "\t Sb09g004210      & Sobic.009G049500 & Sobic.009G049500\\\\\n",
       "\t Sb09g004240      & Sobic.009G049800 & Sobic.009G049800\\\\\n",
       "\t Sb09g005570      & Sobic.009G066900 & Sobic.009G066900\\\\\n",
       "\t Sb09g005580      & Sobic.009G067000 & Sobic.009G067000\\\\\n",
       "\t Sb09g006380      & Sobic.009G075800 & Sobic.009G075800\\\\\n",
       "\t Sb09g014430      & Sobic.009G098100 & Sobic.009G098100\\\\\n",
       "\t Sb09g019370      & Sobic.009G126300 & Sobic.009G126300\\\\\n",
       "\t Sb09g022580      & Sobic.009G163900 & Sobic.009G163900\\\\\n",
       "\t Sb09g026970      & Sobic.009G214100 & Sobic.009G214100\\\\\n",
       "\t Sb09g030170.1    & Sobic.009G251100 & Sobic.009G251100\\\\\n",
       "\t Sb10g001120      & Sobic.010G011200 & Sobic.010G011200\\\\\n",
       "\t Sb10g007410      & Sobic.010G085600 & Sobic.010G085600\\\\\n",
       "\t Sb01g039510      & Sobic.001G419900 & Sobic.001G419900\\\\\n",
       "\t Sb10g008230      & Sobic.010G094500 & Sobic.010G094500\\\\\n",
       "\t Sb10g022220      & Sobic.010G169300 & Sobic.010G169300\\\\\n",
       "\t Sb10g023010      & Sobic.010G178500 & Sobic.010G178500\\\\\n",
       "\t Sb10g027320      & Sobic.010G230600 & Sobic.010G230600\\\\\n",
       "\t Sb04g003150      & Sobic.004G036600 & Sobic.004G036600\\\\\n",
       "\t Sb10g030240      & Sobic.010G267400 & Sobic.010G267400\\\\\n",
       "\\end{tabular}\n"
      ],
      "text/markdown": [
       "\n",
       "| SbID | SobicID | GeneID |\n",
       "|---|---|---|\n",
       "| Sb01g000380      | Sobic.001G003100 | Sobic.001G003100 |\n",
       "| Sb01g003070      | Sobic.001G032800 | Sobic.001G032800 |\n",
       "| Sb01g003220      | Sobic.001G034400 | Sobic.001G034400 |\n",
       "| Sb01g005860      | Sobic.001G064500 | Sobic.001G064500 |\n",
       "| Sb01g007980      | Sobic.001G088500 | Sobic.001G088500 |\n",
       "| Sb01g010460      | Sobic.001G118600 | Sobic.001G118600 |\n",
       "| Sb01g010650      | Sobic.001G120500 | Sobic.001G120500 |\n",
       "| Sb01g011310      | Sobic.001G129000 | Sobic.001G129000 |\n",
       "| Sb01g012000      | Sobic.001G137400 | Sobic.001G137400 |\n",
       "| Sb01g012010      | Sobic.001G137500 | Sobic.001G137500 |\n",
       "| Sb01g012020      | Sobic.001G137600 | Sobic.001G137600 |\n",
       "| Sb01g012040      | Sobic.001G137800 | Sobic.001G137800 |\n",
       "| Sb01g013010      | Sobic.001G149600 | Sobic.001G149600 |\n",
       "| Sb01g013390      | Sobic.001G154100 | Sobic.001G154100 |\n",
       "| Sb01g013840      | Sobic.001G158700 | Sobic.001G158700 |\n",
       "| Sb01g017050      | Sobic.001G193500 | Sobic.001G193500 |\n",
       "| Sb01g020010      | Sobic.001G228200 | Sobic.001G228200 |\n",
       "| Sb07g015140      | Sobic.007G108100 | Sobic.007G108100 |\n",
       "| Sb01g034910.1    | Sobic.001G366300 | Sobic.001G366300 |\n",
       "| Sb01g035320      | Sobic.001G371400 | Sobic.001G371400 |\n",
       "| Sb01g039390      | Sobic.001G418600 | Sobic.001G418600 |\n",
       "| Sb01g039430      | Sobic.001G419000 | Sobic.001G419000 |\n",
       "| Sb09g022580      | Sobic.009G163900 | Sobic.009G163900 |\n",
       "| Sb01g039510      | Sobic.001G419900 | Sobic.001G419900 |\n",
       "| Sb01g039460      | Sobic.001G419300 | Sobic.001G419300 |\n",
       "| Sb01g039470      | Sobic.001G419400 | Sobic.001G419400 |\n",
       "| Sb01g039480      | Sobic.001G419500 | Sobic.001G419500 |\n",
       "| Sb01g039510      | Sobic.001G419900 | Sobic.001G419900 |\n",
       "| Sb01g039510      | Sobic.001G419900 | Sobic.001G419900 |\n",
       "| Sb01g039530      | Sobic.001G420100 | Sobic.001G420100 |\n",
       "| ... | ... | ... |\n",
       "| Sb08g003340      | Sobic.008G038700 | Sobic.008G038700 |\n",
       "| Sb08g009580      | Sobic.008G088200 | Sobic.008G088200 |\n",
       "| Sb08g015280      | Sobic.008G100100 | Sobic.008G100100 |\n",
       "| Sb08g016560      | Sobic.008G111600 | Sobic.008G111600 |\n",
       "| Sb08g017710      | Sobic.008G124900 | Sobic.008G124900 |\n",
       "| Sb08g018750      | Sobic.008G136000 | Sobic.008G136000 |\n",
       "| Sb08g020470      | Sobic.008G155900 | Sobic.008G155900 |\n",
       "| Sb08g020530      | Sobic.008G156500 | Sobic.008G156500 |\n",
       "| Sb08g022950      | Sobic.008G188800 | Sobic.008G188800 |\n",
       "| Sb09g000390      | Sobic.009G002000 | Sobic.009G002000 |\n",
       "| Sb09g002530      | Sobic.009G030300 | Sobic.009G030300 |\n",
       "| Sb09g004210      | Sobic.009G049500 | Sobic.009G049500 |\n",
       "| Sb09g004240      | Sobic.009G049800 | Sobic.009G049800 |\n",
       "| Sb09g005570      | Sobic.009G066900 | Sobic.009G066900 |\n",
       "| Sb09g005580      | Sobic.009G067000 | Sobic.009G067000 |\n",
       "| Sb09g006380      | Sobic.009G075800 | Sobic.009G075800 |\n",
       "| Sb09g014430      | Sobic.009G098100 | Sobic.009G098100 |\n",
       "| Sb09g019370      | Sobic.009G126300 | Sobic.009G126300 |\n",
       "| Sb09g022580      | Sobic.009G163900 | Sobic.009G163900 |\n",
       "| Sb09g026970      | Sobic.009G214100 | Sobic.009G214100 |\n",
       "| Sb09g030170.1    | Sobic.009G251100 | Sobic.009G251100 |\n",
       "| Sb10g001120      | Sobic.010G011200 | Sobic.010G011200 |\n",
       "| Sb10g007410      | Sobic.010G085600 | Sobic.010G085600 |\n",
       "| Sb01g039510      | Sobic.001G419900 | Sobic.001G419900 |\n",
       "| Sb10g008230      | Sobic.010G094500 | Sobic.010G094500 |\n",
       "| Sb10g022220      | Sobic.010G169300 | Sobic.010G169300 |\n",
       "| Sb10g023010      | Sobic.010G178500 | Sobic.010G178500 |\n",
       "| Sb10g027320      | Sobic.010G230600 | Sobic.010G230600 |\n",
       "| Sb04g003150      | Sobic.004G036600 | Sobic.004G036600 |\n",
       "| Sb10g030240      | Sobic.010G267400 | Sobic.010G267400 |\n",
       "\n"
      ],
      "text/plain": [
       "    SbID          SobicID          GeneID          \n",
       "1   Sb01g000380   Sobic.001G003100 Sobic.001G003100\n",
       "2   Sb01g003070   Sobic.001G032800 Sobic.001G032800\n",
       "3   Sb01g003220   Sobic.001G034400 Sobic.001G034400\n",
       "4   Sb01g005860   Sobic.001G064500 Sobic.001G064500\n",
       "5   Sb01g007980   Sobic.001G088500 Sobic.001G088500\n",
       "6   Sb01g010460   Sobic.001G118600 Sobic.001G118600\n",
       "7   Sb01g010650   Sobic.001G120500 Sobic.001G120500\n",
       "8   Sb01g011310   Sobic.001G129000 Sobic.001G129000\n",
       "9   Sb01g012000   Sobic.001G137400 Sobic.001G137400\n",
       "10  Sb01g012010   Sobic.001G137500 Sobic.001G137500\n",
       "11  Sb01g012020   Sobic.001G137600 Sobic.001G137600\n",
       "12  Sb01g012040   Sobic.001G137800 Sobic.001G137800\n",
       "13  Sb01g013010   Sobic.001G149600 Sobic.001G149600\n",
       "14  Sb01g013390   Sobic.001G154100 Sobic.001G154100\n",
       "15  Sb01g013840   Sobic.001G158700 Sobic.001G158700\n",
       "16  Sb01g017050   Sobic.001G193500 Sobic.001G193500\n",
       "17  Sb01g020010   Sobic.001G228200 Sobic.001G228200\n",
       "18  Sb07g015140   Sobic.007G108100 Sobic.007G108100\n",
       "19  Sb01g034910.1 Sobic.001G366300 Sobic.001G366300\n",
       "20  Sb01g035320   Sobic.001G371400 Sobic.001G371400\n",
       "21  Sb01g039390   Sobic.001G418600 Sobic.001G418600\n",
       "22  Sb01g039430   Sobic.001G419000 Sobic.001G419000\n",
       "23  Sb09g022580   Sobic.009G163900 Sobic.009G163900\n",
       "24  Sb01g039510   Sobic.001G419900 Sobic.001G419900\n",
       "25  Sb01g039460   Sobic.001G419300 Sobic.001G419300\n",
       "26  Sb01g039470   Sobic.001G419400 Sobic.001G419400\n",
       "27  Sb01g039480   Sobic.001G419500 Sobic.001G419500\n",
       "28  Sb01g039510   Sobic.001G419900 Sobic.001G419900\n",
       "29  Sb01g039510   Sobic.001G419900 Sobic.001G419900\n",
       "30  Sb01g039530   Sobic.001G420100 Sobic.001G420100\n",
       "... ...           ...              ...             \n",
       "105 Sb08g003340   Sobic.008G038700 Sobic.008G038700\n",
       "106 Sb08g009580   Sobic.008G088200 Sobic.008G088200\n",
       "107 Sb08g015280   Sobic.008G100100 Sobic.008G100100\n",
       "108 Sb08g016560   Sobic.008G111600 Sobic.008G111600\n",
       "109 Sb08g017710   Sobic.008G124900 Sobic.008G124900\n",
       "110 Sb08g018750   Sobic.008G136000 Sobic.008G136000\n",
       "111 Sb08g020470   Sobic.008G155900 Sobic.008G155900\n",
       "112 Sb08g020530   Sobic.008G156500 Sobic.008G156500\n",
       "113 Sb08g022950   Sobic.008G188800 Sobic.008G188800\n",
       "114 Sb09g000390   Sobic.009G002000 Sobic.009G002000\n",
       "115 Sb09g002530   Sobic.009G030300 Sobic.009G030300\n",
       "116 Sb09g004210   Sobic.009G049500 Sobic.009G049500\n",
       "117 Sb09g004240   Sobic.009G049800 Sobic.009G049800\n",
       "118 Sb09g005570   Sobic.009G066900 Sobic.009G066900\n",
       "119 Sb09g005580   Sobic.009G067000 Sobic.009G067000\n",
       "120 Sb09g006380   Sobic.009G075800 Sobic.009G075800\n",
       "121 Sb09g014430   Sobic.009G098100 Sobic.009G098100\n",
       "122 Sb09g019370   Sobic.009G126300 Sobic.009G126300\n",
       "123 Sb09g022580   Sobic.009G163900 Sobic.009G163900\n",
       "124 Sb09g026970   Sobic.009G214100 Sobic.009G214100\n",
       "125 Sb09g030170.1 Sobic.009G251100 Sobic.009G251100\n",
       "126 Sb10g001120   Sobic.010G011200 Sobic.010G011200\n",
       "127 Sb10g007410   Sobic.010G085600 Sobic.010G085600\n",
       "128 Sb01g039510   Sobic.001G419900 Sobic.001G419900\n",
       "129 Sb10g008230   Sobic.010G094500 Sobic.010G094500\n",
       "130 Sb10g022220   Sobic.010G169300 Sobic.010G169300\n",
       "131 Sb10g023010   Sobic.010G178500 Sobic.010G178500\n",
       "132 Sb10g027320   Sobic.010G230600 Sobic.010G230600\n",
       "133 Sb04g003150   Sobic.004G036600 Sobic.004G036600\n",
       "134 Sb10g030240   Sobic.010G267400 Sobic.010G267400"
      ]
     },
     "metadata": {},
     "output_type": "display_data"
    }
   ],
   "source": [
    "## Making a df with all there sb, sobic, sorbi format for all genes.\n",
    "df1 <- read.table('results/annotation/genes//Chr8_Genes_Interactors_Sobic2Sb.txt',header=F)\n",
    "df2 <- read.table('results/annotation/genes/Chr8_Genes_Interactors_Sobic.txt',header=F)\n",
    "df <- cbind(df1,df2,df2)\n",
    "colnames(df) <- c('SbID','SobicID','GeneID')\n",
    "dim(df)\n",
    "df\n",
    "write.csv(df, 'results/annotation/Chr8_Genes_interactors_allFormats.csv',row.names=F)"
   ]
  },
  {
   "cell_type": "code",
   "execution_count": null,
   "metadata": {},
   "outputs": [],
   "source": []
  },
  {
   "cell_type": "code",
   "execution_count": null,
   "metadata": {},
   "outputs": [],
   "source": []
  },
  {
   "cell_type": "code",
   "execution_count": null,
   "metadata": {},
   "outputs": [],
   "source": []
  }
 ],
 "metadata": {
  "kernelspec": {
   "display_name": "R 3.6.0",
   "language": "R",
   "name": "ir360"
  },
  "language_info": {
   "codemirror_mode": "r",
   "file_extension": ".r",
   "mimetype": "text/x-r-source",
   "name": "R",
   "pygments_lexer": "r",
   "version": "3.6.0"
  }
 },
 "nbformat": 4,
 "nbformat_minor": 2
}
