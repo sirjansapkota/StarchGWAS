{
 "cells": [
  {
   "cell_type": "code",
   "execution_count": 1,
   "metadata": {},
   "outputs": [],
   "source": [
    "library(lattice)\n",
    "library(plotrix)\n",
    "library(ggplot2)"
   ]
  },
  {
   "cell_type": "code",
   "execution_count": 2,
   "metadata": {},
   "outputs": [],
   "source": [
    "setwd('/panicle/ssapkot/StarchProtein/')"
   ]
  },
  {
   "cell_type": "code",
   "execution_count": 74,
   "metadata": {},
   "outputs": [],
   "source": [
    "##Functions\n",
    "#Load pdf2png function for output later\n",
    "pdf2png <- function( pdf_file, out_size=4000 ){\n",
    "   out_dir <- \"results\"\n",
    "   command <- sprintf('qlmanage -t -s %s -o %s %s', out_size, out_dir, pdf_file)\n",
    "   system(command)\n",
    "}"
   ]
  },
  {
   "cell_type": "code",
   "execution_count": 59,
   "metadata": {},
   "outputs": [
    {
     "name": "stdout",
     "output_type": "stream",
     "text": [
      "[1] \"LMM\"\n"
     ]
    },
    {
     "data": {
      "text/html": [
       "<table>\n",
       "<thead><tr><th scope=col>chr</th><th scope=col>rs</th><th scope=col>ps</th><th scope=col>n_miss</th><th scope=col>allele1</th><th scope=col>allele0</th><th scope=col>af</th><th scope=col>beta</th><th scope=col>se</th><th scope=col>l_remle</th><th scope=col>l_mle</th><th scope=col>p_wald</th><th scope=col>p_lrt</th><th scope=col>p_score</th></tr></thead>\n",
       "<tbody>\n",
       "\t<tr><td>1          </td><td>S1_2404    </td><td> 2404      </td><td>75         </td><td>C          </td><td>A          </td><td>0.056      </td><td>-0.26540000</td><td>0.20330260 </td><td>3.564568   </td><td>3.528851   </td><td>0.1925276  </td><td>0.1882329  </td><td>0.1898545  </td></tr>\n",
       "\t<tr><td>1          </td><td>S1_2482    </td><td> 2482      </td><td>10         </td><td>C          </td><td>G          </td><td>0.082      </td><td> 0.18009550</td><td>0.20483450 </td><td>3.577991   </td><td>3.539679   </td><td>0.3798324  </td><td>0.3750854  </td><td>0.3764754  </td></tr>\n",
       "\t<tr><td>1          </td><td>S1_14393   </td><td>14393      </td><td>15         </td><td>T          </td><td>C          </td><td>0.225      </td><td>-0.07239022</td><td>0.10565000 </td><td>3.625595   </td><td>3.618505   </td><td>0.4936403  </td><td>0.4895014  </td><td>0.4900877  </td></tr>\n",
       "\t<tr><td>1          </td><td>S1_14632   </td><td>14632      </td><td>93         </td><td>C          </td><td>A          </td><td>0.145      </td><td>-0.16975850</td><td>0.13167990 </td><td>3.587972   </td><td>3.553155   </td><td>0.1981171  </td><td>0.1937094  </td><td>0.1951380  </td></tr>\n",
       "\t<tr><td>1          </td><td>S1_20388   </td><td>20388      </td><td>75         </td><td>T          </td><td>A          </td><td>0.314      </td><td> 0.08032659</td><td>0.09727266 </td><td>3.682073   </td><td>3.674481   </td><td>0.4094398  </td><td>0.4057429  </td><td>0.4071890  </td></tr>\n",
       "\t<tr><td>1          </td><td>S1_23566   </td><td>23566      </td><td>60         </td><td>G          </td><td>T          </td><td>0.091      </td><td>-0.11928630</td><td>0.16900880 </td><td>3.613715   </td><td>3.576195   </td><td>0.4807432  </td><td>0.4761991  </td><td>0.4769428  </td></tr>\n",
       "</tbody>\n",
       "</table>\n"
      ],
      "text/latex": [
       "\\begin{tabular}{r|llllllllllllll}\n",
       " chr & rs & ps & n\\_miss & allele1 & allele0 & af & beta & se & l\\_remle & l\\_mle & p\\_wald & p\\_lrt & p\\_score\\\\\n",
       "\\hline\n",
       "\t 1           & S1\\_2404   &  2404       & 75          & C           & A           & 0.056       & -0.26540000 & 0.20330260  & 3.564568    & 3.528851    & 0.1925276   & 0.1882329   & 0.1898545  \\\\\n",
       "\t 1           & S1\\_2482   &  2482       & 10          & C           & G           & 0.082       &  0.18009550 & 0.20483450  & 3.577991    & 3.539679    & 0.3798324   & 0.3750854   & 0.3764754  \\\\\n",
       "\t 1           & S1\\_14393  & 14393       & 15          & T           & C           & 0.225       & -0.07239022 & 0.10565000  & 3.625595    & 3.618505    & 0.4936403   & 0.4895014   & 0.4900877  \\\\\n",
       "\t 1           & S1\\_14632  & 14632       & 93          & C           & A           & 0.145       & -0.16975850 & 0.13167990  & 3.587972    & 3.553155    & 0.1981171   & 0.1937094   & 0.1951380  \\\\\n",
       "\t 1           & S1\\_20388  & 20388       & 75          & T           & A           & 0.314       &  0.08032659 & 0.09727266  & 3.682073    & 3.674481    & 0.4094398   & 0.4057429   & 0.4071890  \\\\\n",
       "\t 1           & S1\\_23566  & 23566       & 60          & G           & T           & 0.091       & -0.11928630 & 0.16900880  & 3.613715    & 3.576195    & 0.4807432   & 0.4761991   & 0.4769428  \\\\\n",
       "\\end{tabular}\n"
      ],
      "text/markdown": [
       "\n",
       "| chr | rs | ps | n_miss | allele1 | allele0 | af | beta | se | l_remle | l_mle | p_wald | p_lrt | p_score |\n",
       "|---|---|---|---|---|---|---|---|---|---|---|---|---|---|\n",
       "| 1           | S1_2404     |  2404       | 75          | C           | A           | 0.056       | -0.26540000 | 0.20330260  | 3.564568    | 3.528851    | 0.1925276   | 0.1882329   | 0.1898545   |\n",
       "| 1           | S1_2482     |  2482       | 10          | C           | G           | 0.082       |  0.18009550 | 0.20483450  | 3.577991    | 3.539679    | 0.3798324   | 0.3750854   | 0.3764754   |\n",
       "| 1           | S1_14393    | 14393       | 15          | T           | C           | 0.225       | -0.07239022 | 0.10565000  | 3.625595    | 3.618505    | 0.4936403   | 0.4895014   | 0.4900877   |\n",
       "| 1           | S1_14632    | 14632       | 93          | C           | A           | 0.145       | -0.16975850 | 0.13167990  | 3.587972    | 3.553155    | 0.1981171   | 0.1937094   | 0.1951380   |\n",
       "| 1           | S1_20388    | 20388       | 75          | T           | A           | 0.314       |  0.08032659 | 0.09727266  | 3.682073    | 3.674481    | 0.4094398   | 0.4057429   | 0.4071890   |\n",
       "| 1           | S1_23566    | 23566       | 60          | G           | T           | 0.091       | -0.11928630 | 0.16900880  | 3.613715    | 3.576195    | 0.4807432   | 0.4761991   | 0.4769428   |\n",
       "\n"
      ],
      "text/plain": [
       "  chr rs       ps    n_miss allele1 allele0 af    beta        se        \n",
       "1 1   S1_2404   2404 75     C       A       0.056 -0.26540000 0.20330260\n",
       "2 1   S1_2482   2482 10     C       G       0.082  0.18009550 0.20483450\n",
       "3 1   S1_14393 14393 15     T       C       0.225 -0.07239022 0.10565000\n",
       "4 1   S1_14632 14632 93     C       A       0.145 -0.16975850 0.13167990\n",
       "5 1   S1_20388 20388 75     T       A       0.314  0.08032659 0.09727266\n",
       "6 1   S1_23566 23566 60     G       T       0.091 -0.11928630 0.16900880\n",
       "  l_remle  l_mle    p_wald    p_lrt     p_score  \n",
       "1 3.564568 3.528851 0.1925276 0.1882329 0.1898545\n",
       "2 3.577991 3.539679 0.3798324 0.3750854 0.3764754\n",
       "3 3.625595 3.618505 0.4936403 0.4895014 0.4900877\n",
       "4 3.587972 3.553155 0.1981171 0.1937094 0.1951380\n",
       "5 3.682073 3.674481 0.4094398 0.4057429 0.4071890\n",
       "6 3.613715 3.576195 0.4807432 0.4761991 0.4769428"
      ]
     },
     "metadata": {},
     "output_type": "display_data"
    },
    {
     "name": "stdout",
     "output_type": "stream",
     "text": [
      "[1] \"BSLMM)\"\n"
     ]
    },
    {
     "data": {
      "text/html": [
       "<table>\n",
       "<thead><tr><th scope=col>CHR</th><th scope=col>RS</th><th scope=col>PS</th><th scope=col>alpha</th><th scope=col>beta</th><th scope=col>gamma</th><th scope=col>abs.beta.g</th></tr></thead>\n",
       "<tbody>\n",
       "\t<tr><td>1            </td><td>S1_2404      </td><td> 2404        </td><td>-1.369567e-04</td><td>-0.05105861  </td><td>0.00056810   </td><td>2.900640e-05 </td></tr>\n",
       "\t<tr><td>1            </td><td>S1_2482      </td><td> 2482        </td><td> 1.414969e-04</td><td> 0.06311729  </td><td>0.00084780   </td><td>5.351084e-05 </td></tr>\n",
       "\t<tr><td>1            </td><td>S1_14393     </td><td>14393        </td><td> 9.905805e-05</td><td> 0.01143702  </td><td>0.00014065   </td><td>1.608617e-06 </td></tr>\n",
       "\t<tr><td>1            </td><td>S1_14632     </td><td>14632        </td><td>-3.015393e-04</td><td>-0.06868408  </td><td>0.00063705   </td><td>4.375519e-05 </td></tr>\n",
       "\t<tr><td>1            </td><td>S1_20388     </td><td>20388        </td><td> 1.320827e-04</td><td> 0.01510094  </td><td>0.00093885   </td><td>1.417752e-05 </td></tr>\n",
       "\t<tr><td>1            </td><td>S1_23566     </td><td>23566        </td><td>-1.353825e-04</td><td>-0.02690877  </td><td>0.00043365   </td><td>1.166899e-05 </td></tr>\n",
       "</tbody>\n",
       "</table>\n"
      ],
      "text/latex": [
       "\\begin{tabular}{r|lllllll}\n",
       " CHR & RS & PS & alpha & beta & gamma & abs.beta.g\\\\\n",
       "\\hline\n",
       "\t 1             & S1\\_2404     &  2404         & -1.369567e-04 & -0.05105861   & 0.00056810    & 2.900640e-05 \\\\\n",
       "\t 1             & S1\\_2482     &  2482         &  1.414969e-04 &  0.06311729   & 0.00084780    & 5.351084e-05 \\\\\n",
       "\t 1             & S1\\_14393    & 14393         &  9.905805e-05 &  0.01143702   & 0.00014065    & 1.608617e-06 \\\\\n",
       "\t 1             & S1\\_14632    & 14632         & -3.015393e-04 & -0.06868408   & 0.00063705    & 4.375519e-05 \\\\\n",
       "\t 1             & S1\\_20388    & 20388         &  1.320827e-04 &  0.01510094   & 0.00093885    & 1.417752e-05 \\\\\n",
       "\t 1             & S1\\_23566    & 23566         & -1.353825e-04 & -0.02690877   & 0.00043365    & 1.166899e-05 \\\\\n",
       "\\end{tabular}\n"
      ],
      "text/markdown": [
       "\n",
       "| CHR | RS | PS | alpha | beta | gamma | abs.beta.g |\n",
       "|---|---|---|---|---|---|---|\n",
       "| 1             | S1_2404       |  2404         | -1.369567e-04 | -0.05105861   | 0.00056810    | 2.900640e-05  |\n",
       "| 1             | S1_2482       |  2482         |  1.414969e-04 |  0.06311729   | 0.00084780    | 5.351084e-05  |\n",
       "| 1             | S1_14393      | 14393         |  9.905805e-05 |  0.01143702   | 0.00014065    | 1.608617e-06  |\n",
       "| 1             | S1_14632      | 14632         | -3.015393e-04 | -0.06868408   | 0.00063705    | 4.375519e-05  |\n",
       "| 1             | S1_20388      | 20388         |  1.320827e-04 |  0.01510094   | 0.00093885    | 1.417752e-05  |\n",
       "| 1             | S1_23566      | 23566         | -1.353825e-04 | -0.02690877   | 0.00043365    | 1.166899e-05  |\n",
       "\n"
      ],
      "text/plain": [
       "  CHR RS       PS    alpha         beta        gamma      abs.beta.g  \n",
       "1 1   S1_2404   2404 -1.369567e-04 -0.05105861 0.00056810 2.900640e-05\n",
       "2 1   S1_2482   2482  1.414969e-04  0.06311729 0.00084780 5.351084e-05\n",
       "3 1   S1_14393 14393  9.905805e-05  0.01143702 0.00014065 1.608617e-06\n",
       "4 1   S1_14632 14632 -3.015393e-04 -0.06868408 0.00063705 4.375519e-05\n",
       "5 1   S1_20388 20388  1.320827e-04  0.01510094 0.00093885 1.417752e-05\n",
       "6 1   S1_23566 23566 -1.353825e-04 -0.02690877 0.00043365 1.166899e-05"
      ]
     },
     "metadata": {},
     "output_type": "display_data"
    }
   ],
   "source": [
    "lmm <- read.table('results/GWAS/SAP_GWAS_QK_Starch.assoc.txt', sep='\\t', head=T, stringsAsFactors=F)\n",
    "print('LMM')\n",
    "head(lmm)\n",
    "print('BSLMM)')\n",
    "snp.counts <- read.table('Starch_Parameters_mean.txt', sep='\\t', head=T, stringsAsFactors=F)\n",
    "#colnames(bslmm) <- c('chr','rs','ps', 'alpha', 'beta', 'gamma', 'abs.beta.g')\n",
    "head(snp.counts)"
   ]
  },
  {
   "cell_type": "code",
   "execution_count": 88,
   "metadata": {},
   "outputs": [],
   "source": [
    "##LMM PLOT SETUP##\n",
    "#Calculate genome position (e.g. on Manhattan plot) based on chromosome number and position\n",
    "\n",
    "chr <- lmm$chr\n",
    "position <- lmm$ps\n",
    "\n",
    "get_genome_pos <- function( chr, position, buffer=1e6){\n",
    "# chr: vector with chromosome numbers\n",
    "# position: vector with positions, corresponding to each chr_num; adjusted according to max position in snp file\n",
    "# buffer: space between chromosomes in bp\n",
    "#     chr_length <- c(\n",
    "#    chromosome_1 = 73840631,\n",
    "#    chromosome_2 = 77932606,\n",
    "#    chromosome_3 = 74441160,  \n",
    "#    chromosome_4 = 68034345,\n",
    "#    chromosome_5 = 62352331,\n",
    "#    chromosome_6 = 62208784,\n",
    "#    chromosome_7 = 64342021,\n",
    "#    chromosome_8 = 55460251,\n",
    "#    chromosome_9 = 59635592,\n",
    "#    chromosome_10 = 60981646\n",
    "#  )\n",
    "\n",
    "chr_length <- c(\n",
    "   chromosome_1 = 80877469,\n",
    "   chromosome_2 = 77732218,\n",
    "   chromosome_3 = 74383873,  \n",
    "   chromosome_4 = 68651956,\n",
    "   chromosome_5 = 71847961,\n",
    "   chromosome_6 = 61272856,\n",
    "   chromosome_7 = 65459784,\n",
    "   chromosome_8 = 62670676,\n",
    "   chromosome_9 = 59410064,\n",
    "   chromosome_10 = 61226198\n",
    " )\n",
    "\n",
    "    chr_length <- chr_length + buffer\n",
    "\n",
    " position + sapply( chr, function(x) sum(c(0,chr_length[-length(chr_length)])[ 1:x ]))\n",
    "}\n",
    "\n",
    "lmm$genome_pos <- get_genome_pos(chr, position, buffer=1e6)\n",
    "nlp <- expression(paste('LMM -log'[10], (italic(p))))\n",
    "mean_genome_pos <- tapply(lmm$genome_pos, lmm$chr, function(x)(min(x)+max(x))/2)\n",
    "    \n",
    "is.odd <- function(x) x %% 2 != 0 \n",
    "is.even <- function(x) x %% 2 == 0 \n",
    "lmm$Color <- is.odd(lmm$chr)\n",
    "lmm$Color <- gsub(\"TRUE\", \"orange\", lmm$Color)\n",
    "lmm$Color <- gsub(\"FALSE\", \"purple\", lmm$Color)\n",
    "                   "
   ]
  },
  {
   "cell_type": "code",
   "execution_count": 61,
   "metadata": {},
   "outputs": [
    {
     "data": {
      "text/html": [
       "<ol class=list-inline>\n",
       "\t<li>0</li>\n",
       "\t<li>80877469</li>\n",
       "\t<li>158609687</li>\n",
       "\t<li>232993560</li>\n",
       "\t<li>301645516</li>\n",
       "\t<li>373493477</li>\n",
       "\t<li>434766333</li>\n",
       "\t<li>500226117</li>\n",
       "\t<li>562896793</li>\n",
       "\t<li>622306857</li>\n",
       "\t<li>683533055</li>\n",
       "</ol>\n"
      ],
      "text/latex": [
       "\\begin{enumerate*}\n",
       "\\item 0\n",
       "\\item 80877469\n",
       "\\item 158609687\n",
       "\\item 232993560\n",
       "\\item 301645516\n",
       "\\item 373493477\n",
       "\\item 434766333\n",
       "\\item 500226117\n",
       "\\item 562896793\n",
       "\\item 622306857\n",
       "\\item 683533055\n",
       "\\end{enumerate*}\n"
      ],
      "text/markdown": [
       "1. 0\n",
       "2. 80877469\n",
       "3. 158609687\n",
       "4. 232993560\n",
       "5. 301645516\n",
       "6. 373493477\n",
       "7. 434766333\n",
       "8. 500226117\n",
       "9. 562896793\n",
       "10. 622306857\n",
       "11. 683533055\n",
       "\n",
       "\n"
      ],
      "text/plain": [
       " [1]         0  80877469 158609687 232993560 301645516 373493477 434766333\n",
       " [8] 500226117 562896793 622306857 683533055"
      ]
     },
     "metadata": {},
     "output_type": "display_data"
    }
   ],
   "source": [
    "##GEMMA/ Next plot set up ##\n",
    "#This loop will get the maximum value for each chromosome (the chr. length)\n",
    "#This loop will get the maximum value for each chromosome (the chr. length)\n",
    "chr.lengths <- c(0)\n",
    "for (i in 1:10) {\n",
    "chr.counts <- subset(snp.counts, snp.counts$CHR==i)\n",
    " len <- max(chr.counts$PS)\n",
    " addon <- len + chr.lengths[i]\n",
    " chr.lengths <- c(chr.lengths, addon)\n",
    "}\n",
    "chr.lengths\n"
   ]
  },
  {
   "cell_type": "code",
   "execution_count": 62,
   "metadata": {},
   "outputs": [],
   "source": [
    "#Now, you need to add the length of the previous chromosome to the positions of each #SNP in the chromosome that will be plotted next to it\n",
    "adj.pos <- c()\n",
    "for (i in 1:nrow(snp.counts)){\n",
    "pos <- snp.counts[i,3]\n",
    "curr.chr <- as.numeric(snp.counts[i,1])\n",
    "new.pos <- pos + chr.lengths[curr.chr]\n",
    "adj.pos <- c(adj.pos, new.pos)\n",
    "}\n",
    "new.snp.counts <- cbind(snp.counts, adj.pos)\n",
    "\n",
    "g=as.factor(new.snp.counts$CHR)\n",
    "mean.adj.pos <- tapply( new.snp.counts$adj.pos, new.snp.counts$CHR, function(x) (min(x)+max(x))/2 )"
   ]
  },
  {
   "cell_type": "code",
   "execution_count": 63,
   "metadata": {},
   "outputs": [
    {
     "data": {
      "text/html": [
       "<table>\n",
       "<thead><tr><th></th><th scope=col>CHR</th><th scope=col>RS</th><th scope=col>PS</th><th scope=col>alpha</th><th scope=col>beta</th><th scope=col>gamma</th><th scope=col>abs.beta.g</th><th scope=col>adj.pos</th></tr></thead>\n",
       "<tbody>\n",
       "\t<tr><th scope=row>140758</th><td>10           </td><td>S10_61202808 </td><td>61202808     </td><td>-8.038018e-05</td><td>-0.035040801 </td><td>0.00058915   </td><td>2.064429e-05 </td><td>683509665    </td></tr>\n",
       "\t<tr><th scope=row>140759</th><td>10           </td><td>S10_61211383 </td><td>61211383     </td><td>-1.516654e-05</td><td>-0.001125336 </td><td>0.00029355   </td><td>3.303424e-07 </td><td>683518240    </td></tr>\n",
       "\t<tr><th scope=row>140760</th><td>10           </td><td>S10_61211391 </td><td>61211391     </td><td>-2.403386e-05</td><td>-0.006031201 </td><td>0.00054955   </td><td>3.314447e-06 </td><td>683518248    </td></tr>\n",
       "\t<tr><th scope=row>140761</th><td>10           </td><td>S10_61223728 </td><td>61223728     </td><td>-1.781894e-04</td><td>-0.056391736 </td><td>0.00050920   </td><td>2.871467e-05 </td><td>683530585    </td></tr>\n",
       "\t<tr><th scope=row>140762</th><td>10           </td><td>S10_61226197 </td><td>61226197     </td><td>-3.580894e-05</td><td>-0.037522038 </td><td>0.00081040   </td><td>3.040786e-05 </td><td>683533054    </td></tr>\n",
       "\t<tr><th scope=row>140763</th><td>10           </td><td>S10_61226198 </td><td>61226198     </td><td> 3.625113e-04</td><td> 0.073796878 </td><td>0.00121000   </td><td>8.929422e-05 </td><td>683533055    </td></tr>\n",
       "</tbody>\n",
       "</table>\n"
      ],
      "text/latex": [
       "\\begin{tabular}{r|llllllll}\n",
       "  & CHR & RS & PS & alpha & beta & gamma & abs.beta.g & adj.pos\\\\\n",
       "\\hline\n",
       "\t140758 & 10             & S10\\_61202808 & 61202808       & -8.038018e-05  & -0.035040801   & 0.00058915     & 2.064429e-05   & 683509665     \\\\\n",
       "\t140759 & 10             & S10\\_61211383 & 61211383       & -1.516654e-05  & -0.001125336   & 0.00029355     & 3.303424e-07   & 683518240     \\\\\n",
       "\t140760 & 10             & S10\\_61211391 & 61211391       & -2.403386e-05  & -0.006031201   & 0.00054955     & 3.314447e-06   & 683518248     \\\\\n",
       "\t140761 & 10             & S10\\_61223728 & 61223728       & -1.781894e-04  & -0.056391736   & 0.00050920     & 2.871467e-05   & 683530585     \\\\\n",
       "\t140762 & 10             & S10\\_61226197 & 61226197       & -3.580894e-05  & -0.037522038   & 0.00081040     & 3.040786e-05   & 683533054     \\\\\n",
       "\t140763 & 10             & S10\\_61226198 & 61226198       &  3.625113e-04  &  0.073796878   & 0.00121000     & 8.929422e-05   & 683533055     \\\\\n",
       "\\end{tabular}\n"
      ],
      "text/markdown": [
       "\n",
       "| <!--/--> | CHR | RS | PS | alpha | beta | gamma | abs.beta.g | adj.pos |\n",
       "|---|---|---|---|---|---|---|---|---|\n",
       "| 140758 | 10            | S10_61202808  | 61202808      | -8.038018e-05 | -0.035040801  | 0.00058915    | 2.064429e-05  | 683509665     |\n",
       "| 140759 | 10            | S10_61211383  | 61211383      | -1.516654e-05 | -0.001125336  | 0.00029355    | 3.303424e-07  | 683518240     |\n",
       "| 140760 | 10            | S10_61211391  | 61211391      | -2.403386e-05 | -0.006031201  | 0.00054955    | 3.314447e-06  | 683518248     |\n",
       "| 140761 | 10            | S10_61223728  | 61223728      | -1.781894e-04 | -0.056391736  | 0.00050920    | 2.871467e-05  | 683530585     |\n",
       "| 140762 | 10            | S10_61226197  | 61226197      | -3.580894e-05 | -0.037522038  | 0.00081040    | 3.040786e-05  | 683533054     |\n",
       "| 140763 | 10            | S10_61226198  | 61226198      |  3.625113e-04 |  0.073796878  | 0.00121000    | 8.929422e-05  | 683533055     |\n",
       "\n"
      ],
      "text/plain": [
       "       CHR RS           PS       alpha         beta         gamma     \n",
       "140758 10  S10_61202808 61202808 -8.038018e-05 -0.035040801 0.00058915\n",
       "140759 10  S10_61211383 61211383 -1.516654e-05 -0.001125336 0.00029355\n",
       "140760 10  S10_61211391 61211391 -2.403386e-05 -0.006031201 0.00054955\n",
       "140761 10  S10_61223728 61223728 -1.781894e-04 -0.056391736 0.00050920\n",
       "140762 10  S10_61226197 61226197 -3.580894e-05 -0.037522038 0.00081040\n",
       "140763 10  S10_61226198 61226198  3.625113e-04  0.073796878 0.00121000\n",
       "       abs.beta.g   adj.pos  \n",
       "140758 2.064429e-05 683509665\n",
       "140759 3.303424e-07 683518240\n",
       "140760 3.314447e-06 683518248\n",
       "140761 2.871467e-05 683530585\n",
       "140762 3.040786e-05 683533054\n",
       "140763 8.929422e-05 683533055"
      ]
     },
     "metadata": {},
     "output_type": "display_data"
    },
    {
     "data": {
      "text/html": [
       "<dl class=dl-horizontal>\n",
       "\t<dt>1</dt>\n",
       "\t\t<dd>40439936.5</dd>\n",
       "\t<dt>2</dt>\n",
       "\t\t<dd>119775737</dd>\n",
       "\t<dt>3</dt>\n",
       "\t\t<dd>195814508.5</dd>\n",
       "\t<dt>4</dt>\n",
       "\t\t<dd>267324262</dd>\n",
       "\t<dt>5</dt>\n",
       "\t\t<dd>337587023</dd>\n",
       "\t<dt>6</dt>\n",
       "\t\t<dd>404142447.5</dd>\n",
       "\t<dt>7</dt>\n",
       "\t\t<dd>467504455.5</dd>\n",
       "\t<dt>8</dt>\n",
       "\t\t<dd>531567569.5</dd>\n",
       "\t<dt>9</dt>\n",
       "\t\t<dd>592610017</dd>\n",
       "\t<dt>10</dt>\n",
       "\t\t<dd>652925314</dd>\n",
       "</dl>\n"
      ],
      "text/latex": [
       "\\begin{description*}\n",
       "\\item[1] 40439936.5\n",
       "\\item[2] 119775737\n",
       "\\item[3] 195814508.5\n",
       "\\item[4] 267324262\n",
       "\\item[5] 337587023\n",
       "\\item[6] 404142447.5\n",
       "\\item[7] 467504455.5\n",
       "\\item[8] 531567569.5\n",
       "\\item[9] 592610017\n",
       "\\item[10] 652925314\n",
       "\\end{description*}\n"
      ],
      "text/markdown": [
       "1\n",
       ":   40439936.52\n",
       ":   1197757373\n",
       ":   195814508.54\n",
       ":   2673242625\n",
       ":   3375870236\n",
       ":   404142447.57\n",
       ":   467504455.58\n",
       ":   531567569.59\n",
       ":   59261001710\n",
       ":   652925314\n",
       "\n"
      ],
      "text/plain": [
       "        1         2         3         4         5         6         7         8 \n",
       " 40439936 119775737 195814508 267324262 337587023 404142448 467504456 531567570 \n",
       "        9        10 \n",
       "592610017 652925314 "
      ]
     },
     "metadata": {},
     "output_type": "display_data"
    }
   ],
   "source": [
    "tail(new.snp.counts)\n",
    "mean.adj.pos"
   ]
  },
  {
   "cell_type": "code",
   "execution_count": 89,
   "metadata": {},
   "outputs": [],
   "source": [
    "#Making a new column with colors alternating every other chromosome\n",
    "\n",
    "is.odd <- function(x) x %% 2 != 0\n",
    "is.even <- function(x) x %% 2 == 0 \n",
    "new.snp.counts$Color <- is.odd(new.snp.counts$CHR)\n",
    "new.snp.counts$Color <- gsub(\"TRUE\", \"purple\", new.snp.counts$Color)\n",
    "new.snp.counts$Color <- gsub(\"FALSE\", \"orange\", new.snp.counts$Color)"
   ]
  },
  {
   "cell_type": "code",
   "execution_count": 92,
   "metadata": {},
   "outputs": [
    {
     "data": {
      "text/html": [
       "<strong>png:</strong> 2"
      ],
      "text/latex": [
       "\\textbf{png:} 2"
      ],
      "text/markdown": [
       "**png:** 2"
      ],
      "text/plain": [
       "png \n",
       "  2 "
      ]
     },
     "metadata": {},
     "output_type": "display_data"
    }
   ],
   "source": [
    "#Create output file for plot and open a PDF (will close using dev.off() later)\n",
    "pdf_file <- 'results/Starch_Multi_GWAS.pdf'\n",
    "pdf(pdf_file, width=13, height=8)\n",
    "\n",
    "#Create Genome-wise Manhattan Plot\n",
    "with( lmm, {\n",
    "   par(mar=c(5,5,4,4)+2)  \n",
    "   plot( I(-log10(p_score)) ~ I(genome_pos/1e6), cex=0.8,\n",
    "      col=Color, ylab=nlp, xlab='Chromosome', xaxt='n', main='Starch',\n",
    "      pch=16, lwd=2, family=\"Times\", las=1, cex.axis=1.5, cex.main=2, cex.lab=1.8, ylim=c(0,10))\n",
    "   axis(side=1, at=mean_genome_pos/1e6, labels=1:10, tick=F, lwd=2, cex.axis=1.5, family=\"Times\")\n",
    "   abline(h=-log10(0.05/140e3), col='gray', lty='dashed', lwd=2.5)\n",
    "\t})\n",
    "\n",
    "#Allows a second plot on the same graph\n",
    "par(new=TRUE)\n",
    "#Plot the GEMMA results over the existing LMM plot\n",
    "plot(new.snp.counts$gamma~new.snp.counts$adj.pos, data=new.snp.counts, col=new.snp.counts$Color, main=\"\", axes=FALSE, xlab=\"\", ylab=\"\", pch=18, type=\"h\", lwd=1.5)\n",
    "#Put label right side of plot\n",
    "axis(side=4, ylim=c(0,0.05), las=1, cex.axis=1.3, family=\"Times\")\n",
    "mtext(\"BSLMM PIP\", side=4, line=4, cex=1.5, family=\"Times\")\n",
    "abline(h=0.03, col='black', lty='dashed', lwd=1.5)\n",
    "\n",
    "text(645000000, 0.062, labels=\"LMM\", cex=1.2, family=\"Times\")\n",
    "text(645000000, 0.06, labels=\"-  BSLMM\", cex=1.2, family=\"Times\")\n",
    "draw.circle(615000000, 0.062, 0.05, lwd=5)\n",
    "\n",
    "#Close out pdf output\n",
    "dev.off()\n"
   ]
  },
  {
   "cell_type": "code",
   "execution_count": 80,
   "metadata": {},
   "outputs": [
    {
     "name": "stderr",
     "output_type": "stream",
     "text": [
      "Warning message in system(command):\n",
      "“error in running command”"
     ]
    }
   ],
   "source": [
    "#Create PNG from PDF to shrink down file size\n",
    "pdf_file <- 'results/Starch_Multi_GWAS.pdf'\n",
    "pdf2png(pdf_file , out_size=1000)"
   ]
  },
  {
   "cell_type": "code",
   "execution_count": 93,
   "metadata": {},
   "outputs": [
    {
     "data": {
      "text/html": [
       "<table>\n",
       "<thead><tr><th></th><th scope=col>CHR</th><th scope=col>RS</th><th scope=col>PS</th><th scope=col>alpha</th><th scope=col>beta</th><th scope=col>gamma</th><th scope=col>abs.beta.g</th></tr></thead>\n",
       "<tbody>\n",
       "\t<tr><th scope=row>1500</th><td>1            </td><td>S1_4067535   </td><td> 4067535     </td><td>-0.0010987679</td><td>-0.2791097   </td><td>0.06582045   </td><td>0.01837112   </td></tr>\n",
       "\t<tr><th scope=row>112819</th><td>8            </td><td>S8_51720767  </td><td>51720767     </td><td>-0.0010162805</td><td>-0.3052012   </td><td>0.06408745   </td><td>0.01955956   </td></tr>\n",
       "\t<tr><th scope=row>115067</th><td>8            </td><td>S8_59121722  </td><td>59121722     </td><td>-0.0011287410</td><td>-0.2812877   </td><td>0.06394560   </td><td>0.01798711   </td></tr>\n",
       "\t<tr><th scope=row>1495</th><td>1            </td><td>S1_4067364   </td><td> 4067364     </td><td>-0.0010637272</td><td>-0.2946239   </td><td>0.06354205   </td><td>0.01872101   </td></tr>\n",
       "\t<tr><th scope=row>1496</th><td>1            </td><td>S1_4067377   </td><td> 4067377     </td><td>-0.0010492161</td><td>-0.2828123   </td><td>0.05326815   </td><td>0.01506489   </td></tr>\n",
       "\t<tr><th scope=row>112820</th><td>8            </td><td>S8_51721062  </td><td>51721062     </td><td>-0.0009855779</td><td>-0.3004408   </td><td>0.05254765   </td><td>0.01578746   </td></tr>\n",
       "</tbody>\n",
       "</table>\n"
      ],
      "text/latex": [
       "\\begin{tabular}{r|lllllll}\n",
       "  & CHR & RS & PS & alpha & beta & gamma & abs.beta.g\\\\\n",
       "\\hline\n",
       "\t1500 & 1             & S1\\_4067535  &  4067535      & -0.0010987679 & -0.2791097    & 0.06582045    & 0.01837112   \\\\\n",
       "\t112819 & 8             & S8\\_51720767 & 51720767      & -0.0010162805 & -0.3052012    & 0.06408745    & 0.01955956   \\\\\n",
       "\t115067 & 8             & S8\\_59121722 & 59121722      & -0.0011287410 & -0.2812877    & 0.06394560    & 0.01798711   \\\\\n",
       "\t1495 & 1             & S1\\_4067364  &  4067364      & -0.0010637272 & -0.2946239    & 0.06354205    & 0.01872101   \\\\\n",
       "\t1496 & 1             & S1\\_4067377  &  4067377      & -0.0010492161 & -0.2828123    & 0.05326815    & 0.01506489   \\\\\n",
       "\t112820 & 8             & S8\\_51721062 & 51721062      & -0.0009855779 & -0.3004408    & 0.05254765    & 0.01578746   \\\\\n",
       "\\end{tabular}\n"
      ],
      "text/markdown": [
       "\n",
       "| <!--/--> | CHR | RS | PS | alpha | beta | gamma | abs.beta.g |\n",
       "|---|---|---|---|---|---|---|---|\n",
       "| 1500 | 1             | S1_4067535    |  4067535      | -0.0010987679 | -0.2791097    | 0.06582045    | 0.01837112    |\n",
       "| 112819 | 8             | S8_51720767   | 51720767      | -0.0010162805 | -0.3052012    | 0.06408745    | 0.01955956    |\n",
       "| 115067 | 8             | S8_59121722   | 59121722      | -0.0011287410 | -0.2812877    | 0.06394560    | 0.01798711    |\n",
       "| 1495 | 1             | S1_4067364    |  4067364      | -0.0010637272 | -0.2946239    | 0.06354205    | 0.01872101    |\n",
       "| 1496 | 1             | S1_4067377    |  4067377      | -0.0010492161 | -0.2828123    | 0.05326815    | 0.01506489    |\n",
       "| 112820 | 8             | S8_51721062   | 51721062      | -0.0009855779 | -0.3004408    | 0.05254765    | 0.01578746    |\n",
       "\n"
      ],
      "text/plain": [
       "       CHR RS          PS       alpha         beta       gamma      abs.beta.g\n",
       "1500   1   S1_4067535   4067535 -0.0010987679 -0.2791097 0.06582045 0.01837112\n",
       "112819 8   S8_51720767 51720767 -0.0010162805 -0.3052012 0.06408745 0.01955956\n",
       "115067 8   S8_59121722 59121722 -0.0011287410 -0.2812877 0.06394560 0.01798711\n",
       "1495   1   S1_4067364   4067364 -0.0010637272 -0.2946239 0.06354205 0.01872101\n",
       "1496   1   S1_4067377   4067377 -0.0010492161 -0.2828123 0.05326815 0.01506489\n",
       "112820 8   S8_51721062 51721062 -0.0009855779 -0.3004408 0.05254765 0.01578746"
      ]
     },
     "metadata": {},
     "output_type": "display_data"
    }
   ],
   "source": [
    "head(snp.counts[order(-snp.counts$gamma),])"
   ]
  },
  {
   "cell_type": "code",
   "execution_count": null,
   "metadata": {},
   "outputs": [],
   "source": []
  }
 ],
 "metadata": {
  "kernelspec": {
   "display_name": "R 3.6.0",
   "language": "R",
   "name": "ir360"
  },
  "language_info": {
   "codemirror_mode": "r",
   "file_extension": ".r",
   "mimetype": "text/x-r-source",
   "name": "R",
   "pygments_lexer": "r",
   "version": "3.6.0"
  }
 },
 "nbformat": 4,
 "nbformat_minor": 2
}
